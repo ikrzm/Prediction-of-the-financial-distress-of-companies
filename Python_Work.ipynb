{
 "cells": [
  {
   "cell_type": "code",
   "execution_count": 1,
   "id": "c9444742",
   "metadata": {},
   "outputs": [],
   "source": [
    "import pandas as pd\n",
    "import seaborn as sns\n",
    "from matplotlib import pyplot as plt\n",
    "import numpy as np\n",
    "from sklearn.model_selection import train_test_split\n",
    "from imblearn.over_sampling import SMOTE\n",
    "from sklearn.decomposition import PCA\n",
    "from sklearn.ensemble import RandomForestClassifier\n",
    "from sklearn.tree import DecisionTreeClassifier\n",
    "from collections import Counter\n",
    "from numpy import mean\n",
    "from sklearn.model_selection import cross_val_score\n",
    "from sklearn.model_selection import RepeatedStratifiedKFold\n",
    "from imblearn.pipeline import Pipeline\n",
    "from imblearn.under_sampling import RandomUnderSampler\n",
    "from imblearn.over_sampling import RandomOverSampler\n",
    "from sklearn.neighbors import KNeighborsClassifier\n",
    "from sklearn.preprocessing import StandardScaler\n",
    "import warnings\n",
    "from sklearn.decomposition import PCA\n",
    "from sklearn.linear_model import LogisticRegression\n",
    "from sklearn.pipeline import make_pipeline\n",
    "from sklearn.model_selection import GridSearchCV\n",
    "from sklearn.metrics import confusion_matrix\n",
    "from sklearn.metrics import classification_report\n",
    "from sklearn.svm import SVC\n",
    "\n",
    "\n",
    "warnings.filterwarnings('ignore')"
   ]
  },
  {
   "cell_type": "markdown",
   "id": "a46afbb6",
   "metadata": {},
   "source": [
    "# 0. usefull functions"
   ]
  },
  {
   "cell_type": "code",
   "execution_count": 2,
   "id": "b67c39b2",
   "metadata": {},
   "outputs": [],
   "source": [
    "def plot_histograms( df , variables , n_rows , n_cols ):\n",
    "    fig = plt.figure( figsize = ( 16 , 12 ) )\n",
    "    for i, var_name in enumerate( variables ):\n",
    "        ax=fig.add_subplot( n_rows , n_cols , i+1 )\n",
    "        df[ var_name ].hist( bins=10 , ax=ax )\n",
    "        ax.set_title( 'Skew: ' + str( round( float( df[ var_name ].skew() ) , ) ) ) # + ' ' + var_name ) #var_name+\" Distribution\")\n",
    "        ax.set_xticklabels( [] , visible=False )\n",
    "        ax.set_yticklabels( [] , visible=False )\n",
    "    fig.tight_layout()  # Improves appearance a bit.\n",
    "    plt.show()\n",
    "\n",
    "def plot_distribution( df , var , target , **kwargs ):\n",
    "    row = kwargs.get( 'row' , None )\n",
    "    col = kwargs.get( 'col' , None )\n",
    "    facet = sns.FacetGrid( df , hue=target , aspect=4 , row = row , col = col )\n",
    "    facet.map( sns.kdeplot , var , shade= True )\n",
    "    facet.set( xlim=( 0 , df[ var ].max() ) )\n",
    "    facet.add_legend()\n",
    "\n",
    "def plot_categories( df , cat , target , **kwargs ):\n",
    "    row = kwargs.get( 'row' , None )\n",
    "    col = kwargs.get( 'col' , None )\n",
    "    facet = sns.FacetGrid( df , row = row , col = col )\n",
    "    facet.map( sns.barplot , cat , target )\n",
    "    facet.add_legend()\n",
    "\n",
    "def plot_correlation_map( df ):\n",
    "    corr = titanic.corr()\n",
    "    _ , ax = plt.subplots( figsize =( 12 , 10 ) )\n",
    "    cmap = sns.diverging_palette( 220 , 10 , as_cmap = True )\n",
    "    _ = sns.heatmap(\n",
    "        corr, \n",
    "        cmap = cmap,\n",
    "        square=True, \n",
    "        cbar_kws={ 'shrink' : .9 }, \n",
    "        ax=ax, \n",
    "        annot = True, \n",
    "        annot_kws = { 'fontsize' : 12 }\n",
    "    )\n",
    "\n",
    "def describe_more( df ):\n",
    "    var = [] ; l = [] ; t = []\n",
    "    for x in df:\n",
    "        var.append( x )\n",
    "        l.append( len( pd.value_counts( df[ x ] ) ) )\n",
    "        t.append( df[ x ].dtypes )\n",
    "    levels = pd.DataFrame( { 'Variable' : var , 'Levels' : l , 'Datatype' : t } )\n",
    "    levels.sort_values( by = 'Levels' , inplace = True )\n",
    "    return levels\n",
    "\n",
    "def plot_variable_importance( X , y ):\n",
    "    tree = DecisionTreeClassifier( random_state = 99 )\n",
    "    tree.fit( X , y )\n",
    "    plot_model_var_imp( tree , X , y )\n",
    "    \n",
    "def plot_model_var_imp( model , X , y ):\n",
    "    imp = pd.DataFrame( \n",
    "        model.feature_importances_  , \n",
    "        columns = [ 'Importance' ] , \n",
    "        index = X.columns \n",
    "    )\n",
    "    imp = imp.sort_values( [ 'Importance' ] , ascending = True )\n",
    "    imp[ : 10 ].plot( kind = 'barh' )\n",
    "    print (model.score( X , y ))"
   ]
  },
  {
   "cell_type": "markdown",
   "id": "a7613733",
   "metadata": {},
   "source": [
    "# 1.  découvrir les données"
   ]
  },
  {
   "cell_type": "code",
   "execution_count": 3,
   "id": "5a5fd67f",
   "metadata": {},
   "outputs": [],
   "source": [
    "fd = pd.read_csv(\"Financial Distress.csv\")"
   ]
  },
  {
   "cell_type": "code",
   "execution_count": 4,
   "id": "613acbbc",
   "metadata": {},
   "outputs": [
    {
     "data": {
      "text/html": [
       "<div>\n",
       "<style scoped>\n",
       "    .dataframe tbody tr th:only-of-type {\n",
       "        vertical-align: middle;\n",
       "    }\n",
       "\n",
       "    .dataframe tbody tr th {\n",
       "        vertical-align: top;\n",
       "    }\n",
       "\n",
       "    .dataframe thead th {\n",
       "        text-align: right;\n",
       "    }\n",
       "</style>\n",
       "<table border=\"1\" class=\"dataframe\">\n",
       "  <thead>\n",
       "    <tr style=\"text-align: right;\">\n",
       "      <th></th>\n",
       "      <th>Company</th>\n",
       "      <th>Time</th>\n",
       "      <th>Financial Distress</th>\n",
       "      <th>x1</th>\n",
       "      <th>x2</th>\n",
       "      <th>x3</th>\n",
       "      <th>x4</th>\n",
       "      <th>x5</th>\n",
       "      <th>x6</th>\n",
       "      <th>x7</th>\n",
       "      <th>...</th>\n",
       "      <th>x74</th>\n",
       "      <th>x75</th>\n",
       "      <th>x76</th>\n",
       "      <th>x77</th>\n",
       "      <th>x78</th>\n",
       "      <th>x79</th>\n",
       "      <th>x80</th>\n",
       "      <th>x81</th>\n",
       "      <th>x82</th>\n",
       "      <th>x83</th>\n",
       "    </tr>\n",
       "  </thead>\n",
       "  <tbody>\n",
       "    <tr>\n",
       "      <th>0</th>\n",
       "      <td>1</td>\n",
       "      <td>1</td>\n",
       "      <td>0.010636</td>\n",
       "      <td>1.2810</td>\n",
       "      <td>0.022934</td>\n",
       "      <td>0.87454</td>\n",
       "      <td>1.21640</td>\n",
       "      <td>0.060940</td>\n",
       "      <td>0.188270</td>\n",
       "      <td>0.52510</td>\n",
       "      <td>...</td>\n",
       "      <td>85.437</td>\n",
       "      <td>27.07</td>\n",
       "      <td>26.102</td>\n",
       "      <td>16.000</td>\n",
       "      <td>16.0</td>\n",
       "      <td>0.2</td>\n",
       "      <td>22</td>\n",
       "      <td>0.060390</td>\n",
       "      <td>30</td>\n",
       "      <td>49</td>\n",
       "    </tr>\n",
       "    <tr>\n",
       "      <th>1</th>\n",
       "      <td>1</td>\n",
       "      <td>2</td>\n",
       "      <td>-0.455970</td>\n",
       "      <td>1.2700</td>\n",
       "      <td>0.006454</td>\n",
       "      <td>0.82067</td>\n",
       "      <td>1.00490</td>\n",
       "      <td>-0.014080</td>\n",
       "      <td>0.181040</td>\n",
       "      <td>0.62288</td>\n",
       "      <td>...</td>\n",
       "      <td>107.090</td>\n",
       "      <td>31.31</td>\n",
       "      <td>30.194</td>\n",
       "      <td>17.000</td>\n",
       "      <td>16.0</td>\n",
       "      <td>0.4</td>\n",
       "      <td>22</td>\n",
       "      <td>0.010636</td>\n",
       "      <td>31</td>\n",
       "      <td>50</td>\n",
       "    </tr>\n",
       "    <tr>\n",
       "      <th>2</th>\n",
       "      <td>1</td>\n",
       "      <td>3</td>\n",
       "      <td>-0.325390</td>\n",
       "      <td>1.0529</td>\n",
       "      <td>-0.059379</td>\n",
       "      <td>0.92242</td>\n",
       "      <td>0.72926</td>\n",
       "      <td>0.020476</td>\n",
       "      <td>0.044865</td>\n",
       "      <td>0.43292</td>\n",
       "      <td>...</td>\n",
       "      <td>120.870</td>\n",
       "      <td>36.07</td>\n",
       "      <td>35.273</td>\n",
       "      <td>17.000</td>\n",
       "      <td>15.0</td>\n",
       "      <td>-0.2</td>\n",
       "      <td>22</td>\n",
       "      <td>-0.455970</td>\n",
       "      <td>32</td>\n",
       "      <td>51</td>\n",
       "    </tr>\n",
       "    <tr>\n",
       "      <th>3</th>\n",
       "      <td>1</td>\n",
       "      <td>4</td>\n",
       "      <td>-0.566570</td>\n",
       "      <td>1.1131</td>\n",
       "      <td>-0.015229</td>\n",
       "      <td>0.85888</td>\n",
       "      <td>0.80974</td>\n",
       "      <td>0.076037</td>\n",
       "      <td>0.091033</td>\n",
       "      <td>0.67546</td>\n",
       "      <td>...</td>\n",
       "      <td>54.806</td>\n",
       "      <td>39.80</td>\n",
       "      <td>38.377</td>\n",
       "      <td>17.167</td>\n",
       "      <td>16.0</td>\n",
       "      <td>5.6</td>\n",
       "      <td>22</td>\n",
       "      <td>-0.325390</td>\n",
       "      <td>33</td>\n",
       "      <td>52</td>\n",
       "    </tr>\n",
       "    <tr>\n",
       "      <th>4</th>\n",
       "      <td>2</td>\n",
       "      <td>1</td>\n",
       "      <td>1.357300</td>\n",
       "      <td>1.0623</td>\n",
       "      <td>0.107020</td>\n",
       "      <td>0.81460</td>\n",
       "      <td>0.83593</td>\n",
       "      <td>0.199960</td>\n",
       "      <td>0.047800</td>\n",
       "      <td>0.74200</td>\n",
       "      <td>...</td>\n",
       "      <td>85.437</td>\n",
       "      <td>27.07</td>\n",
       "      <td>26.102</td>\n",
       "      <td>16.000</td>\n",
       "      <td>16.0</td>\n",
       "      <td>0.2</td>\n",
       "      <td>29</td>\n",
       "      <td>1.251000</td>\n",
       "      <td>7</td>\n",
       "      <td>27</td>\n",
       "    </tr>\n",
       "  </tbody>\n",
       "</table>\n",
       "<p>5 rows × 86 columns</p>\n",
       "</div>"
      ],
      "text/plain": [
       "   Company  Time  Financial Distress      x1        x2       x3       x4  \\\n",
       "0        1     1            0.010636  1.2810  0.022934  0.87454  1.21640   \n",
       "1        1     2           -0.455970  1.2700  0.006454  0.82067  1.00490   \n",
       "2        1     3           -0.325390  1.0529 -0.059379  0.92242  0.72926   \n",
       "3        1     4           -0.566570  1.1131 -0.015229  0.85888  0.80974   \n",
       "4        2     1            1.357300  1.0623  0.107020  0.81460  0.83593   \n",
       "\n",
       "         x5        x6       x7  ...      x74    x75     x76     x77   x78  \\\n",
       "0  0.060940  0.188270  0.52510  ...   85.437  27.07  26.102  16.000  16.0   \n",
       "1 -0.014080  0.181040  0.62288  ...  107.090  31.31  30.194  17.000  16.0   \n",
       "2  0.020476  0.044865  0.43292  ...  120.870  36.07  35.273  17.000  15.0   \n",
       "3  0.076037  0.091033  0.67546  ...   54.806  39.80  38.377  17.167  16.0   \n",
       "4  0.199960  0.047800  0.74200  ...   85.437  27.07  26.102  16.000  16.0   \n",
       "\n",
       "   x79  x80       x81  x82  x83  \n",
       "0  0.2   22  0.060390   30   49  \n",
       "1  0.4   22  0.010636   31   50  \n",
       "2 -0.2   22 -0.455970   32   51  \n",
       "3  5.6   22 -0.325390   33   52  \n",
       "4  0.2   29  1.251000    7   27  \n",
       "\n",
       "[5 rows x 86 columns]"
      ]
     },
     "execution_count": 4,
     "metadata": {},
     "output_type": "execute_result"
    }
   ],
   "source": [
    "fd.head()"
   ]
  },
  {
   "cell_type": "code",
   "execution_count": 5,
   "id": "b9c106f6",
   "metadata": {},
   "outputs": [
    {
     "name": "stdout",
     "output_type": "stream",
     "text": [
      "le dataset a 3672 lignes et 86 colnnes\n"
     ]
    }
   ],
   "source": [
    "print(\"le dataset a {} lignes et {} colnnes\".format(fd.shape[0],fd.shape[1]))"
   ]
  },
  {
   "cell_type": "code",
   "execution_count": 6,
   "id": "b090db17",
   "metadata": {},
   "outputs": [
    {
     "name": "stdout",
     "output_type": "stream",
     "text": [
      "<class 'pandas.core.frame.DataFrame'>\n",
      "RangeIndex: 3672 entries, 0 to 3671\n",
      "Data columns (total 86 columns):\n",
      " #   Column              Non-Null Count  Dtype  \n",
      "---  ------              --------------  -----  \n",
      " 0   Company             3672 non-null   int64  \n",
      " 1   Time                3672 non-null   int64  \n",
      " 2   Financial Distress  3672 non-null   float64\n",
      " 3   x1                  3672 non-null   float64\n",
      " 4   x2                  3672 non-null   float64\n",
      " 5   x3                  3672 non-null   float64\n",
      " 6   x4                  3672 non-null   float64\n",
      " 7   x5                  3672 non-null   float64\n",
      " 8   x6                  3672 non-null   float64\n",
      " 9   x7                  3672 non-null   float64\n",
      " 10  x8                  3672 non-null   float64\n",
      " 11  x9                  3672 non-null   float64\n",
      " 12  x10                 3672 non-null   float64\n",
      " 13  x11                 3672 non-null   float64\n",
      " 14  x12                 3672 non-null   float64\n",
      " 15  x13                 3672 non-null   float64\n",
      " 16  x14                 3672 non-null   float64\n",
      " 17  x15                 3672 non-null   float64\n",
      " 18  x16                 3672 non-null   float64\n",
      " 19  x17                 3672 non-null   float64\n",
      " 20  x18                 3672 non-null   float64\n",
      " 21  x19                 3672 non-null   float64\n",
      " 22  x20                 3672 non-null   float64\n",
      " 23  x21                 3672 non-null   float64\n",
      " 24  x22                 3672 non-null   float64\n",
      " 25  x23                 3672 non-null   float64\n",
      " 26  x24                 3672 non-null   float64\n",
      " 27  x25                 3672 non-null   float64\n",
      " 28  x26                 3672 non-null   float64\n",
      " 29  x27                 3672 non-null   float64\n",
      " 30  x28                 3672 non-null   float64\n",
      " 31  x29                 3672 non-null   float64\n",
      " 32  x30                 3672 non-null   float64\n",
      " 33  x31                 3672 non-null   float64\n",
      " 34  x32                 3672 non-null   float64\n",
      " 35  x33                 3672 non-null   float64\n",
      " 36  x34                 3672 non-null   float64\n",
      " 37  x35                 3672 non-null   float64\n",
      " 38  x36                 3672 non-null   float64\n",
      " 39  x37                 3672 non-null   float64\n",
      " 40  x38                 3672 non-null   float64\n",
      " 41  x39                 3672 non-null   float64\n",
      " 42  x40                 3672 non-null   float64\n",
      " 43  x41                 3672 non-null   float64\n",
      " 44  x42                 3672 non-null   float64\n",
      " 45  x43                 3672 non-null   float64\n",
      " 46  x44                 3672 non-null   float64\n",
      " 47  x45                 3672 non-null   float64\n",
      " 48  x46                 3672 non-null   float64\n",
      " 49  x47                 3672 non-null   float64\n",
      " 50  x48                 3672 non-null   float64\n",
      " 51  x49                 3672 non-null   float64\n",
      " 52  x50                 3672 non-null   float64\n",
      " 53  x51                 3672 non-null   float64\n",
      " 54  x52                 3672 non-null   float64\n",
      " 55  x53                 3672 non-null   float64\n",
      " 56  x54                 3672 non-null   float64\n",
      " 57  x55                 3672 non-null   float64\n",
      " 58  x56                 3672 non-null   float64\n",
      " 59  x57                 3672 non-null   float64\n",
      " 60  x58                 3672 non-null   float64\n",
      " 61  x59                 3672 non-null   float64\n",
      " 62  x60                 3672 non-null   float64\n",
      " 63  x61                 3672 non-null   float64\n",
      " 64  x62                 3672 non-null   float64\n",
      " 65  x63                 3672 non-null   float64\n",
      " 66  x64                 3672 non-null   float64\n",
      " 67  x65                 3672 non-null   float64\n",
      " 68  x66                 3672 non-null   float64\n",
      " 69  x67                 3672 non-null   float64\n",
      " 70  x68                 3672 non-null   float64\n",
      " 71  x69                 3672 non-null   float64\n",
      " 72  x70                 3672 non-null   float64\n",
      " 73  x71                 3672 non-null   float64\n",
      " 74  x72                 3672 non-null   float64\n",
      " 75  x73                 3672 non-null   float64\n",
      " 76  x74                 3672 non-null   float64\n",
      " 77  x75                 3672 non-null   float64\n",
      " 78  x76                 3672 non-null   float64\n",
      " 79  x77                 3672 non-null   float64\n",
      " 80  x78                 3672 non-null   float64\n",
      " 81  x79                 3672 non-null   float64\n",
      " 82  x80                 3672 non-null   int64  \n",
      " 83  x81                 3672 non-null   float64\n",
      " 84  x82                 3672 non-null   int64  \n",
      " 85  x83                 3672 non-null   int64  \n",
      "dtypes: float64(81), int64(5)\n",
      "memory usage: 2.4 MB\n"
     ]
    }
   ],
   "source": [
    "fd.info()"
   ]
  },
  {
   "cell_type": "code",
   "execution_count": 7,
   "id": "6642cb35",
   "metadata": {
    "scrolled": true
   },
   "outputs": [
    {
     "data": {
      "text/html": [
       "<div>\n",
       "<style scoped>\n",
       "    .dataframe tbody tr th:only-of-type {\n",
       "        vertical-align: middle;\n",
       "    }\n",
       "\n",
       "    .dataframe tbody tr th {\n",
       "        vertical-align: top;\n",
       "    }\n",
       "\n",
       "    .dataframe thead th {\n",
       "        text-align: right;\n",
       "    }\n",
       "</style>\n",
       "<table border=\"1\" class=\"dataframe\">\n",
       "  <thead>\n",
       "    <tr style=\"text-align: right;\">\n",
       "      <th></th>\n",
       "      <th>Company</th>\n",
       "      <th>Time</th>\n",
       "      <th>Financial Distress</th>\n",
       "      <th>x1</th>\n",
       "      <th>x2</th>\n",
       "      <th>x3</th>\n",
       "      <th>x4</th>\n",
       "      <th>x5</th>\n",
       "      <th>x6</th>\n",
       "      <th>x7</th>\n",
       "      <th>...</th>\n",
       "      <th>x74</th>\n",
       "      <th>x75</th>\n",
       "      <th>x76</th>\n",
       "      <th>x77</th>\n",
       "      <th>x78</th>\n",
       "      <th>x79</th>\n",
       "      <th>x80</th>\n",
       "      <th>x81</th>\n",
       "      <th>x82</th>\n",
       "      <th>x83</th>\n",
       "    </tr>\n",
       "  </thead>\n",
       "  <tbody>\n",
       "    <tr>\n",
       "      <th>count</th>\n",
       "      <td>3672.000000</td>\n",
       "      <td>3672.000000</td>\n",
       "      <td>3672.000000</td>\n",
       "      <td>3672.000000</td>\n",
       "      <td>3672.000000</td>\n",
       "      <td>3672.000000</td>\n",
       "      <td>3.672000e+03</td>\n",
       "      <td>3672.000000</td>\n",
       "      <td>3672.000000</td>\n",
       "      <td>3672.000000</td>\n",
       "      <td>...</td>\n",
       "      <td>3672.000000</td>\n",
       "      <td>3672.000000</td>\n",
       "      <td>3672.000000</td>\n",
       "      <td>3672.000000</td>\n",
       "      <td>3672.000000</td>\n",
       "      <td>3672.000000</td>\n",
       "      <td>3672.000000</td>\n",
       "      <td>3672.000000</td>\n",
       "      <td>3672.000000</td>\n",
       "      <td>3672.000000</td>\n",
       "    </tr>\n",
       "    <tr>\n",
       "      <th>mean</th>\n",
       "      <td>182.084423</td>\n",
       "      <td>7.528322</td>\n",
       "      <td>1.040257</td>\n",
       "      <td>1.387820</td>\n",
       "      <td>0.129706</td>\n",
       "      <td>0.615769</td>\n",
       "      <td>8.681599e-01</td>\n",
       "      <td>0.154949</td>\n",
       "      <td>0.106717</td>\n",
       "      <td>0.784031</td>\n",
       "      <td>...</td>\n",
       "      <td>86.839822</td>\n",
       "      <td>91.920506</td>\n",
       "      <td>89.115908</td>\n",
       "      <td>17.780855</td>\n",
       "      <td>15.198708</td>\n",
       "      <td>-2.664305</td>\n",
       "      <td>19.714597</td>\n",
       "      <td>1.100488</td>\n",
       "      <td>13.122277</td>\n",
       "      <td>33.044935</td>\n",
       "    </tr>\n",
       "    <tr>\n",
       "      <th>std</th>\n",
       "      <td>117.024636</td>\n",
       "      <td>4.064016</td>\n",
       "      <td>2.652227</td>\n",
       "      <td>1.452926</td>\n",
       "      <td>0.120013</td>\n",
       "      <td>0.177904</td>\n",
       "      <td>5.719519e-01</td>\n",
       "      <td>0.124904</td>\n",
       "      <td>0.210555</td>\n",
       "      <td>1.033606</td>\n",
       "      <td>...</td>\n",
       "      <td>16.706209</td>\n",
       "      <td>64.656504</td>\n",
       "      <td>64.349382</td>\n",
       "      <td>2.040152</td>\n",
       "      <td>2.828648</td>\n",
       "      <td>8.192663</td>\n",
       "      <td>7.508588</td>\n",
       "      <td>2.666733</td>\n",
       "      <td>9.465907</td>\n",
       "      <td>13.714563</td>\n",
       "    </tr>\n",
       "    <tr>\n",
       "      <th>min</th>\n",
       "      <td>1.000000</td>\n",
       "      <td>1.000000</td>\n",
       "      <td>-8.631700</td>\n",
       "      <td>0.075170</td>\n",
       "      <td>-0.258080</td>\n",
       "      <td>0.016135</td>\n",
       "      <td>5.350000e-07</td>\n",
       "      <td>-0.269790</td>\n",
       "      <td>-0.627750</td>\n",
       "      <td>0.035160</td>\n",
       "      <td>...</td>\n",
       "      <td>54.806000</td>\n",
       "      <td>24.318000</td>\n",
       "      <td>23.776000</td>\n",
       "      <td>15.250000</td>\n",
       "      <td>12.000000</td>\n",
       "      <td>-20.200000</td>\n",
       "      <td>1.000000</td>\n",
       "      <td>-0.499220</td>\n",
       "      <td>1.000000</td>\n",
       "      <td>2.000000</td>\n",
       "    </tr>\n",
       "    <tr>\n",
       "      <th>25%</th>\n",
       "      <td>80.000000</td>\n",
       "      <td>4.000000</td>\n",
       "      <td>0.172275</td>\n",
       "      <td>0.952145</td>\n",
       "      <td>0.048701</td>\n",
       "      <td>0.501888</td>\n",
       "      <td>5.525575e-01</td>\n",
       "      <td>0.070001</td>\n",
       "      <td>-0.027754</td>\n",
       "      <td>0.436003</td>\n",
       "      <td>...</td>\n",
       "      <td>79.951000</td>\n",
       "      <td>39.800000</td>\n",
       "      <td>38.377000</td>\n",
       "      <td>16.000000</td>\n",
       "      <td>13.000000</td>\n",
       "      <td>-7.000000</td>\n",
       "      <td>14.000000</td>\n",
       "      <td>0.189912</td>\n",
       "      <td>6.000000</td>\n",
       "      <td>21.000000</td>\n",
       "    </tr>\n",
       "    <tr>\n",
       "      <th>50%</th>\n",
       "      <td>168.000000</td>\n",
       "      <td>7.000000</td>\n",
       "      <td>0.583805</td>\n",
       "      <td>1.183600</td>\n",
       "      <td>0.107530</td>\n",
       "      <td>0.638690</td>\n",
       "      <td>7.752450e-01</td>\n",
       "      <td>0.131830</td>\n",
       "      <td>0.104325</td>\n",
       "      <td>0.641875</td>\n",
       "      <td>...</td>\n",
       "      <td>90.000000</td>\n",
       "      <td>66.120000</td>\n",
       "      <td>59.471000</td>\n",
       "      <td>17.000000</td>\n",
       "      <td>14.500000</td>\n",
       "      <td>0.200000</td>\n",
       "      <td>20.000000</td>\n",
       "      <td>0.594765</td>\n",
       "      <td>11.000000</td>\n",
       "      <td>34.000000</td>\n",
       "    </tr>\n",
       "    <tr>\n",
       "      <th>75%</th>\n",
       "      <td>264.250000</td>\n",
       "      <td>11.000000</td>\n",
       "      <td>1.351750</td>\n",
       "      <td>1.506475</td>\n",
       "      <td>0.188685</td>\n",
       "      <td>0.749425</td>\n",
       "      <td>1.039000e+00</td>\n",
       "      <td>0.219570</td>\n",
       "      <td>0.231230</td>\n",
       "      <td>0.896772</td>\n",
       "      <td>...</td>\n",
       "      <td>93.883000</td>\n",
       "      <td>130.500000</td>\n",
       "      <td>132.400000</td>\n",
       "      <td>20.000000</td>\n",
       "      <td>16.000000</td>\n",
       "      <td>2.100000</td>\n",
       "      <td>26.000000</td>\n",
       "      <td>1.355050</td>\n",
       "      <td>17.000000</td>\n",
       "      <td>44.000000</td>\n",
       "    </tr>\n",
       "    <tr>\n",
       "      <th>max</th>\n",
       "      <td>422.000000</td>\n",
       "      <td>14.000000</td>\n",
       "      <td>128.400000</td>\n",
       "      <td>51.954000</td>\n",
       "      <td>0.749410</td>\n",
       "      <td>0.967900</td>\n",
       "      <td>6.835600e+00</td>\n",
       "      <td>0.858540</td>\n",
       "      <td>0.929550</td>\n",
       "      <td>38.836000</td>\n",
       "      <td>...</td>\n",
       "      <td>120.870000</td>\n",
       "      <td>227.500000</td>\n",
       "      <td>214.500000</td>\n",
       "      <td>22.000000</td>\n",
       "      <td>22.000000</td>\n",
       "      <td>8.600000</td>\n",
       "      <td>37.000000</td>\n",
       "      <td>128.400000</td>\n",
       "      <td>49.000000</td>\n",
       "      <td>74.000000</td>\n",
       "    </tr>\n",
       "  </tbody>\n",
       "</table>\n",
       "<p>8 rows × 86 columns</p>\n",
       "</div>"
      ],
      "text/plain": [
       "           Company         Time  Financial Distress           x1           x2  \\\n",
       "count  3672.000000  3672.000000         3672.000000  3672.000000  3672.000000   \n",
       "mean    182.084423     7.528322            1.040257     1.387820     0.129706   \n",
       "std     117.024636     4.064016            2.652227     1.452926     0.120013   \n",
       "min       1.000000     1.000000           -8.631700     0.075170    -0.258080   \n",
       "25%      80.000000     4.000000            0.172275     0.952145     0.048701   \n",
       "50%     168.000000     7.000000            0.583805     1.183600     0.107530   \n",
       "75%     264.250000    11.000000            1.351750     1.506475     0.188685   \n",
       "max     422.000000    14.000000          128.400000    51.954000     0.749410   \n",
       "\n",
       "                x3            x4           x5           x6           x7  ...  \\\n",
       "count  3672.000000  3.672000e+03  3672.000000  3672.000000  3672.000000  ...   \n",
       "mean      0.615769  8.681599e-01     0.154949     0.106717     0.784031  ...   \n",
       "std       0.177904  5.719519e-01     0.124904     0.210555     1.033606  ...   \n",
       "min       0.016135  5.350000e-07    -0.269790    -0.627750     0.035160  ...   \n",
       "25%       0.501888  5.525575e-01     0.070001    -0.027754     0.436003  ...   \n",
       "50%       0.638690  7.752450e-01     0.131830     0.104325     0.641875  ...   \n",
       "75%       0.749425  1.039000e+00     0.219570     0.231230     0.896772  ...   \n",
       "max       0.967900  6.835600e+00     0.858540     0.929550    38.836000  ...   \n",
       "\n",
       "               x74          x75          x76          x77          x78  \\\n",
       "count  3672.000000  3672.000000  3672.000000  3672.000000  3672.000000   \n",
       "mean     86.839822    91.920506    89.115908    17.780855    15.198708   \n",
       "std      16.706209    64.656504    64.349382     2.040152     2.828648   \n",
       "min      54.806000    24.318000    23.776000    15.250000    12.000000   \n",
       "25%      79.951000    39.800000    38.377000    16.000000    13.000000   \n",
       "50%      90.000000    66.120000    59.471000    17.000000    14.500000   \n",
       "75%      93.883000   130.500000   132.400000    20.000000    16.000000   \n",
       "max     120.870000   227.500000   214.500000    22.000000    22.000000   \n",
       "\n",
       "               x79          x80          x81          x82          x83  \n",
       "count  3672.000000  3672.000000  3672.000000  3672.000000  3672.000000  \n",
       "mean     -2.664305    19.714597     1.100488    13.122277    33.044935  \n",
       "std       8.192663     7.508588     2.666733     9.465907    13.714563  \n",
       "min     -20.200000     1.000000    -0.499220     1.000000     2.000000  \n",
       "25%      -7.000000    14.000000     0.189912     6.000000    21.000000  \n",
       "50%       0.200000    20.000000     0.594765    11.000000    34.000000  \n",
       "75%       2.100000    26.000000     1.355050    17.000000    44.000000  \n",
       "max       8.600000    37.000000   128.400000    49.000000    74.000000  \n",
       "\n",
       "[8 rows x 86 columns]"
      ]
     },
     "execution_count": 7,
     "metadata": {},
     "output_type": "execute_result"
    }
   ],
   "source": [
    "fd.describe()"
   ]
  },
  {
   "cell_type": "code",
   "execution_count": 8,
   "id": "1b18eb38",
   "metadata": {},
   "outputs": [
    {
     "name": "stdout",
     "output_type": "stream",
     "text": [
      "le dataset au plus 0 valeurs nulles\n"
     ]
    }
   ],
   "source": [
    "print(\"le dataset au plus {} valeurs nulles\".format(fd.isnull().sum().max()))"
   ]
  },
  {
   "cell_type": "code",
   "execution_count": 9,
   "id": "3068a643",
   "metadata": {},
   "outputs": [
    {
     "name": "stdout",
     "output_type": "stream",
     "text": [
      "les colonnes sont : \n",
      " Index(['Company', 'Time', 'Financial Distress', 'x1', 'x2', 'x3', 'x4', 'x5',\n",
      "       'x6', 'x7', 'x8', 'x9', 'x10', 'x11', 'x12', 'x13', 'x14', 'x15', 'x16',\n",
      "       'x17', 'x18', 'x19', 'x20', 'x21', 'x22', 'x23', 'x24', 'x25', 'x26',\n",
      "       'x27', 'x28', 'x29', 'x30', 'x31', 'x32', 'x33', 'x34', 'x35', 'x36',\n",
      "       'x37', 'x38', 'x39', 'x40', 'x41', 'x42', 'x43', 'x44', 'x45', 'x46',\n",
      "       'x47', 'x48', 'x49', 'x50', 'x51', 'x52', 'x53', 'x54', 'x55', 'x56',\n",
      "       'x57', 'x58', 'x59', 'x60', 'x61', 'x62', 'x63', 'x64', 'x65', 'x66',\n",
      "       'x67', 'x68', 'x69', 'x70', 'x71', 'x72', 'x73', 'x74', 'x75', 'x76',\n",
      "       'x77', 'x78', 'x79', 'x80', 'x81', 'x82', 'x83'],\n",
      "      dtype='object')\n"
     ]
    }
   ],
   "source": [
    "print(\"les colonnes sont : \\n\", fd.columns)"
   ]
  },
  {
   "cell_type": "markdown",
   "id": "fd9c5d63",
   "metadata": {},
   "source": [
    "# 2. Choix du type d'algorithme "
   ]
  },
  {
   "cell_type": "markdown",
   "id": "0ac094f0",
   "metadata": {},
   "source": [
    "On va ajouter une colnne binaire qui s'appelle \"healthy\" qui donne 0 au Company qui sont en sain etat et 1 sinon\n",
    "et par la suite le probleme sera une <b> CLASSIFICATION </b> <br>\n",
    "NB : les Company qui ont une Financial Distress > -0.5 seront considérées comme saines"
   ]
  },
  {
   "cell_type": "code",
   "execution_count": 10,
   "id": "59d299ec",
   "metadata": {},
   "outputs": [],
   "source": [
    "\n",
    "fd['healthy'] = [0 if fd['Financial Distress'][x] > -0.5 else 1 for x in range(3672)]\n",
    "fd = fd.drop('Financial Distress', axis = 1)"
   ]
  },
  {
   "cell_type": "code",
   "execution_count": 11,
   "id": "46749d1d",
   "metadata": {},
   "outputs": [
    {
     "data": {
      "text/html": [
       "<div>\n",
       "<style scoped>\n",
       "    .dataframe tbody tr th:only-of-type {\n",
       "        vertical-align: middle;\n",
       "    }\n",
       "\n",
       "    .dataframe tbody tr th {\n",
       "        vertical-align: top;\n",
       "    }\n",
       "\n",
       "    .dataframe thead th {\n",
       "        text-align: right;\n",
       "    }\n",
       "</style>\n",
       "<table border=\"1\" class=\"dataframe\">\n",
       "  <thead>\n",
       "    <tr style=\"text-align: right;\">\n",
       "      <th></th>\n",
       "      <th>Company</th>\n",
       "      <th>Time</th>\n",
       "      <th>x1</th>\n",
       "      <th>x2</th>\n",
       "      <th>x3</th>\n",
       "      <th>x4</th>\n",
       "      <th>x5</th>\n",
       "      <th>x6</th>\n",
       "      <th>x7</th>\n",
       "      <th>x8</th>\n",
       "      <th>...</th>\n",
       "      <th>x75</th>\n",
       "      <th>x76</th>\n",
       "      <th>x77</th>\n",
       "      <th>x78</th>\n",
       "      <th>x79</th>\n",
       "      <th>x80</th>\n",
       "      <th>x81</th>\n",
       "      <th>x82</th>\n",
       "      <th>x83</th>\n",
       "      <th>healthy</th>\n",
       "    </tr>\n",
       "  </thead>\n",
       "  <tbody>\n",
       "    <tr>\n",
       "      <th>0</th>\n",
       "      <td>1</td>\n",
       "      <td>1</td>\n",
       "      <td>1.2810</td>\n",
       "      <td>0.022934</td>\n",
       "      <td>0.87454</td>\n",
       "      <td>1.21640</td>\n",
       "      <td>0.060940</td>\n",
       "      <td>0.188270</td>\n",
       "      <td>0.52510</td>\n",
       "      <td>0.018854</td>\n",
       "      <td>...</td>\n",
       "      <td>27.07</td>\n",
       "      <td>26.102</td>\n",
       "      <td>16.000</td>\n",
       "      <td>16.0</td>\n",
       "      <td>0.2</td>\n",
       "      <td>22</td>\n",
       "      <td>0.060390</td>\n",
       "      <td>30</td>\n",
       "      <td>49</td>\n",
       "      <td>0</td>\n",
       "    </tr>\n",
       "    <tr>\n",
       "      <th>1</th>\n",
       "      <td>1</td>\n",
       "      <td>2</td>\n",
       "      <td>1.2700</td>\n",
       "      <td>0.006454</td>\n",
       "      <td>0.82067</td>\n",
       "      <td>1.00490</td>\n",
       "      <td>-0.014080</td>\n",
       "      <td>0.181040</td>\n",
       "      <td>0.62288</td>\n",
       "      <td>0.006423</td>\n",
       "      <td>...</td>\n",
       "      <td>31.31</td>\n",
       "      <td>30.194</td>\n",
       "      <td>17.000</td>\n",
       "      <td>16.0</td>\n",
       "      <td>0.4</td>\n",
       "      <td>22</td>\n",
       "      <td>0.010636</td>\n",
       "      <td>31</td>\n",
       "      <td>50</td>\n",
       "      <td>0</td>\n",
       "    </tr>\n",
       "    <tr>\n",
       "      <th>2</th>\n",
       "      <td>1</td>\n",
       "      <td>3</td>\n",
       "      <td>1.0529</td>\n",
       "      <td>-0.059379</td>\n",
       "      <td>0.92242</td>\n",
       "      <td>0.72926</td>\n",
       "      <td>0.020476</td>\n",
       "      <td>0.044865</td>\n",
       "      <td>0.43292</td>\n",
       "      <td>-0.081423</td>\n",
       "      <td>...</td>\n",
       "      <td>36.07</td>\n",
       "      <td>35.273</td>\n",
       "      <td>17.000</td>\n",
       "      <td>15.0</td>\n",
       "      <td>-0.2</td>\n",
       "      <td>22</td>\n",
       "      <td>-0.455970</td>\n",
       "      <td>32</td>\n",
       "      <td>51</td>\n",
       "      <td>0</td>\n",
       "    </tr>\n",
       "    <tr>\n",
       "      <th>3</th>\n",
       "      <td>1</td>\n",
       "      <td>4</td>\n",
       "      <td>1.1131</td>\n",
       "      <td>-0.015229</td>\n",
       "      <td>0.85888</td>\n",
       "      <td>0.80974</td>\n",
       "      <td>0.076037</td>\n",
       "      <td>0.091033</td>\n",
       "      <td>0.67546</td>\n",
       "      <td>-0.018807</td>\n",
       "      <td>...</td>\n",
       "      <td>39.80</td>\n",
       "      <td>38.377</td>\n",
       "      <td>17.167</td>\n",
       "      <td>16.0</td>\n",
       "      <td>5.6</td>\n",
       "      <td>22</td>\n",
       "      <td>-0.325390</td>\n",
       "      <td>33</td>\n",
       "      <td>52</td>\n",
       "      <td>1</td>\n",
       "    </tr>\n",
       "    <tr>\n",
       "      <th>4</th>\n",
       "      <td>2</td>\n",
       "      <td>1</td>\n",
       "      <td>1.0623</td>\n",
       "      <td>0.107020</td>\n",
       "      <td>0.81460</td>\n",
       "      <td>0.83593</td>\n",
       "      <td>0.199960</td>\n",
       "      <td>0.047800</td>\n",
       "      <td>0.74200</td>\n",
       "      <td>0.128030</td>\n",
       "      <td>...</td>\n",
       "      <td>27.07</td>\n",
       "      <td>26.102</td>\n",
       "      <td>16.000</td>\n",
       "      <td>16.0</td>\n",
       "      <td>0.2</td>\n",
       "      <td>29</td>\n",
       "      <td>1.251000</td>\n",
       "      <td>7</td>\n",
       "      <td>27</td>\n",
       "      <td>0</td>\n",
       "    </tr>\n",
       "  </tbody>\n",
       "</table>\n",
       "<p>5 rows × 86 columns</p>\n",
       "</div>"
      ],
      "text/plain": [
       "   Company  Time      x1        x2       x3       x4        x5        x6  \\\n",
       "0        1     1  1.2810  0.022934  0.87454  1.21640  0.060940  0.188270   \n",
       "1        1     2  1.2700  0.006454  0.82067  1.00490 -0.014080  0.181040   \n",
       "2        1     3  1.0529 -0.059379  0.92242  0.72926  0.020476  0.044865   \n",
       "3        1     4  1.1131 -0.015229  0.85888  0.80974  0.076037  0.091033   \n",
       "4        2     1  1.0623  0.107020  0.81460  0.83593  0.199960  0.047800   \n",
       "\n",
       "        x7        x8  ...    x75     x76     x77   x78  x79  x80       x81  \\\n",
       "0  0.52510  0.018854  ...  27.07  26.102  16.000  16.0  0.2   22  0.060390   \n",
       "1  0.62288  0.006423  ...  31.31  30.194  17.000  16.0  0.4   22  0.010636   \n",
       "2  0.43292 -0.081423  ...  36.07  35.273  17.000  15.0 -0.2   22 -0.455970   \n",
       "3  0.67546 -0.018807  ...  39.80  38.377  17.167  16.0  5.6   22 -0.325390   \n",
       "4  0.74200  0.128030  ...  27.07  26.102  16.000  16.0  0.2   29  1.251000   \n",
       "\n",
       "   x82  x83  healthy  \n",
       "0   30   49        0  \n",
       "1   31   50        0  \n",
       "2   32   51        0  \n",
       "3   33   52        1  \n",
       "4    7   27        0  \n",
       "\n",
       "[5 rows x 86 columns]"
      ]
     },
     "execution_count": 11,
     "metadata": {},
     "output_type": "execute_result"
    }
   ],
   "source": [
    "fd.head(5)"
   ]
  },
  {
   "cell_type": "markdown",
   "id": "5ad7d18b",
   "metadata": {},
   "source": [
    "# 3. La distrubition de la variable target \"healthy\""
   ]
  },
  {
   "cell_type": "code",
   "execution_count": 12,
   "id": "194f77e4",
   "metadata": {},
   "outputs": [
    {
     "data": {
      "image/png": "[encoded data removed]",
      "text/plain": [
       "<Figure size 576x360 with 1 Axes>"
      ]
     },
     "metadata": {
      "needs_background": "light"
     },
     "output_type": "display_data"
    }
   ],
   "source": [
    "total = float(len(fd))\n",
    "plt.figure(figsize=(8,5))\n",
    "ax = sns.countplot(x = 'healthy', data=fd)\n",
    "plt.title('distrubution de l etat de l entreprise \\n (0: healthy || 1: unhealthy)', fontsize=14)\n",
    "for p in ax.patches:\n",
    "    percentage = '{:.1f}%'.format(100 * p.get_height()/total)\n",
    "    x = p.get_x() + p.get_width()\n",
    "    y = p.get_height()\n",
    "    ax.annotate(percentage, (x, y),ha='center')\n",
    "\n",
    "plt.show()\n"
   ]
  },
  {
   "cell_type": "markdown",
   "id": "5e21c5f6",
   "metadata": {},
   "source": [
    "les données <b> déséquilibrées </b> , la plupart des Company sont en sain etat et le dataset est skewed , donc on va essayer de balancer le dataset mais plutard "
   ]
  },
  {
   "cell_type": "markdown",
   "id": "dc5122b7",
   "metadata": {},
   "source": [
    "# 4. Etude de correlatrion "
   ]
  },
  {
   "cell_type": "markdown",
   "id": "2b80016d",
   "metadata": {},
   "source": [
    "avant toute visualization, on va commencer par eliminer les variables qui portent la meme informations puisque notre jeu de données est immense "
   ]
  },
  {
   "cell_type": "markdown",
   "id": "51227c63",
   "metadata": {},
   "source": [
    "## 4.1 Correlation entre variables"
   ]
  },
  {
   "cell_type": "code",
   "execution_count": 13,
   "id": "985b334e",
   "metadata": {},
   "outputs": [
    {
     "data": {
      "text/html": [
       "<div>\n",
       "<style scoped>\n",
       "    .dataframe tbody tr th:only-of-type {\n",
       "        vertical-align: middle;\n",
       "    }\n",
       "\n",
       "    .dataframe tbody tr th {\n",
       "        vertical-align: top;\n",
       "    }\n",
       "\n",
       "    .dataframe thead th {\n",
       "        text-align: right;\n",
       "    }\n",
       "</style>\n",
       "<table border=\"1\" class=\"dataframe\">\n",
       "  <thead>\n",
       "    <tr style=\"text-align: right;\">\n",
       "      <th></th>\n",
       "      <th>feature_a</th>\n",
       "      <th>feature_b</th>\n",
       "      <th>correlation</th>\n",
       "    </tr>\n",
       "  </thead>\n",
       "  <tbody>\n",
       "    <tr>\n",
       "      <th>0</th>\n",
       "      <td>x23</td>\n",
       "      <td>x50</td>\n",
       "      <td>1.000000</td>\n",
       "    </tr>\n",
       "    <tr>\n",
       "      <th>1</th>\n",
       "      <td>x3</td>\n",
       "      <td>x13</td>\n",
       "      <td>1.000000</td>\n",
       "    </tr>\n",
       "    <tr>\n",
       "      <th>2</th>\n",
       "      <td>x75</td>\n",
       "      <td>x76</td>\n",
       "      <td>0.997845</td>\n",
       "    </tr>\n",
       "    <tr>\n",
       "      <th>3</th>\n",
       "      <td>x16</td>\n",
       "      <td>x52</td>\n",
       "      <td>0.996677</td>\n",
       "    </tr>\n",
       "    <tr>\n",
       "      <th>4</th>\n",
       "      <td>x17</td>\n",
       "      <td>x34</td>\n",
       "      <td>0.989344</td>\n",
       "    </tr>\n",
       "    <tr>\n",
       "      <th>5</th>\n",
       "      <td>x68</td>\n",
       "      <td>x76</td>\n",
       "      <td>0.980423</td>\n",
       "    </tr>\n",
       "    <tr>\n",
       "      <th>6</th>\n",
       "      <td>x14</td>\n",
       "      <td>x49</td>\n",
       "      <td>0.979764</td>\n",
       "    </tr>\n",
       "    <tr>\n",
       "      <th>7</th>\n",
       "      <td>x68</td>\n",
       "      <td>x75</td>\n",
       "      <td>0.971307</td>\n",
       "    </tr>\n",
       "    <tr>\n",
       "      <th>8</th>\n",
       "      <td>x48</td>\n",
       "      <td>x81</td>\n",
       "      <td>0.965758</td>\n",
       "    </tr>\n",
       "    <tr>\n",
       "      <th>9</th>\n",
       "      <td>x32</td>\n",
       "      <td>x38</td>\n",
       "      <td>0.945412</td>\n",
       "    </tr>\n",
       "    <tr>\n",
       "      <th>10</th>\n",
       "      <td>x61</td>\n",
       "      <td>x62</td>\n",
       "      <td>0.941643</td>\n",
       "    </tr>\n",
       "    <tr>\n",
       "      <th>11</th>\n",
       "      <td>x70</td>\n",
       "      <td>x79</td>\n",
       "      <td>0.941285</td>\n",
       "    </tr>\n",
       "    <tr>\n",
       "      <th>12</th>\n",
       "      <td>x29</td>\n",
       "      <td>x33</td>\n",
       "      <td>0.939184</td>\n",
       "    </tr>\n",
       "    <tr>\n",
       "      <th>13</th>\n",
       "      <td>x68</td>\n",
       "      <td>x77</td>\n",
       "      <td>0.937393</td>\n",
       "    </tr>\n",
       "    <tr>\n",
       "      <th>14</th>\n",
       "      <td>Time</td>\n",
       "      <td>x75</td>\n",
       "      <td>0.932565</td>\n",
       "    </tr>\n",
       "    <tr>\n",
       "      <th>15</th>\n",
       "      <td>Time</td>\n",
       "      <td>x76</td>\n",
       "      <td>0.926182</td>\n",
       "    </tr>\n",
       "    <tr>\n",
       "      <th>16</th>\n",
       "      <td>x25</td>\n",
       "      <td>x81</td>\n",
       "      <td>0.920063</td>\n",
       "    </tr>\n",
       "    <tr>\n",
       "      <th>17</th>\n",
       "      <td>x76</td>\n",
       "      <td>x77</td>\n",
       "      <td>0.916450</td>\n",
       "    </tr>\n",
       "    <tr>\n",
       "      <th>18</th>\n",
       "      <td>x1</td>\n",
       "      <td>x7</td>\n",
       "      <td>0.914489</td>\n",
       "    </tr>\n",
       "    <tr>\n",
       "      <th>19</th>\n",
       "      <td>x35</td>\n",
       "      <td>x38</td>\n",
       "      <td>0.909884</td>\n",
       "    </tr>\n",
       "    <tr>\n",
       "      <th>20</th>\n",
       "      <td>x25</td>\n",
       "      <td>x48</td>\n",
       "      <td>0.906304</td>\n",
       "    </tr>\n",
       "    <tr>\n",
       "      <th>21</th>\n",
       "      <td>x5</td>\n",
       "      <td>x53</td>\n",
       "      <td>0.906145</td>\n",
       "    </tr>\n",
       "    <tr>\n",
       "      <th>22</th>\n",
       "      <td>x75</td>\n",
       "      <td>x77</td>\n",
       "      <td>0.904940</td>\n",
       "    </tr>\n",
       "    <tr>\n",
       "      <th>23</th>\n",
       "      <td>x2</td>\n",
       "      <td>x5</td>\n",
       "      <td>0.892480</td>\n",
       "    </tr>\n",
       "    <tr>\n",
       "      <th>24</th>\n",
       "      <td>Time</td>\n",
       "      <td>x64</td>\n",
       "      <td>0.884338</td>\n",
       "    </tr>\n",
       "    <tr>\n",
       "      <th>25</th>\n",
       "      <td>x43</td>\n",
       "      <td>x44</td>\n",
       "      <td>0.875050</td>\n",
       "    </tr>\n",
       "    <tr>\n",
       "      <th>26</th>\n",
       "      <td>x3</td>\n",
       "      <td>x24</td>\n",
       "      <td>0.867130</td>\n",
       "    </tr>\n",
       "    <tr>\n",
       "      <th>27</th>\n",
       "      <td>x13</td>\n",
       "      <td>x24</td>\n",
       "      <td>0.867129</td>\n",
       "    </tr>\n",
       "    <tr>\n",
       "      <th>28</th>\n",
       "      <td>Time</td>\n",
       "      <td>x68</td>\n",
       "      <td>0.861083</td>\n",
       "    </tr>\n",
       "    <tr>\n",
       "      <th>29</th>\n",
       "      <td>x32</td>\n",
       "      <td>x35</td>\n",
       "      <td>0.860213</td>\n",
       "    </tr>\n",
       "    <tr>\n",
       "      <th>30</th>\n",
       "      <td>x26</td>\n",
       "      <td>x51</td>\n",
       "      <td>0.858874</td>\n",
       "    </tr>\n",
       "    <tr>\n",
       "      <th>31</th>\n",
       "      <td>x64</td>\n",
       "      <td>x76</td>\n",
       "      <td>0.814309</td>\n",
       "    </tr>\n",
       "    <tr>\n",
       "      <th>32</th>\n",
       "      <td>x64</td>\n",
       "      <td>x75</td>\n",
       "      <td>0.812240</td>\n",
       "    </tr>\n",
       "    <tr>\n",
       "      <th>33</th>\n",
       "      <td>x64</td>\n",
       "      <td>x68</td>\n",
       "      <td>0.802918</td>\n",
       "    </tr>\n",
       "    <tr>\n",
       "      <th>34</th>\n",
       "      <td>x62</td>\n",
       "      <td>x64</td>\n",
       "      <td>0.799866</td>\n",
       "    </tr>\n",
       "    <tr>\n",
       "      <th>35</th>\n",
       "      <td>x2</td>\n",
       "      <td>x53</td>\n",
       "      <td>0.798938</td>\n",
       "    </tr>\n",
       "    <tr>\n",
       "      <th>36</th>\n",
       "      <td>x61</td>\n",
       "      <td>x64</td>\n",
       "      <td>0.796512</td>\n",
       "    </tr>\n",
       "    <tr>\n",
       "      <th>37</th>\n",
       "      <td>x6</td>\n",
       "      <td>x45</td>\n",
       "      <td>0.793954</td>\n",
       "    </tr>\n",
       "    <tr>\n",
       "      <th>38</th>\n",
       "      <td>x4</td>\n",
       "      <td>x21</td>\n",
       "      <td>0.788384</td>\n",
       "    </tr>\n",
       "    <tr>\n",
       "      <th>39</th>\n",
       "      <td>x11</td>\n",
       "      <td>x40</td>\n",
       "      <td>0.780524</td>\n",
       "    </tr>\n",
       "    <tr>\n",
       "      <th>40</th>\n",
       "      <td>Time</td>\n",
       "      <td>x77</td>\n",
       "      <td>0.777229</td>\n",
       "    </tr>\n",
       "    <tr>\n",
       "      <th>41</th>\n",
       "      <td>x29</td>\n",
       "      <td>x37</td>\n",
       "      <td>0.777099</td>\n",
       "    </tr>\n",
       "    <tr>\n",
       "      <th>42</th>\n",
       "      <td>x3</td>\n",
       "      <td>x14</td>\n",
       "      <td>0.759448</td>\n",
       "    </tr>\n",
       "    <tr>\n",
       "      <th>43</th>\n",
       "      <td>x13</td>\n",
       "      <td>x14</td>\n",
       "      <td>0.759447</td>\n",
       "    </tr>\n",
       "    <tr>\n",
       "      <th>44</th>\n",
       "      <td>x2</td>\n",
       "      <td>x36</td>\n",
       "      <td>0.759338</td>\n",
       "    </tr>\n",
       "    <tr>\n",
       "      <th>45</th>\n",
       "      <td>x24</td>\n",
       "      <td>x49</td>\n",
       "      <td>0.752674</td>\n",
       "    </tr>\n",
       "    <tr>\n",
       "      <th>46</th>\n",
       "      <td>x1</td>\n",
       "      <td>x46</td>\n",
       "      <td>0.748915</td>\n",
       "    </tr>\n",
       "    <tr>\n",
       "      <th>47</th>\n",
       "      <td>Time</td>\n",
       "      <td>x62</td>\n",
       "      <td>0.748330</td>\n",
       "    </tr>\n",
       "    <tr>\n",
       "      <th>48</th>\n",
       "      <td>x3</td>\n",
       "      <td>x49</td>\n",
       "      <td>0.740796</td>\n",
       "    </tr>\n",
       "    <tr>\n",
       "      <th>49</th>\n",
       "      <td>x13</td>\n",
       "      <td>x49</td>\n",
       "      <td>0.740796</td>\n",
       "    </tr>\n",
       "    <tr>\n",
       "      <th>50</th>\n",
       "      <td>x44</td>\n",
       "      <td>x46</td>\n",
       "      <td>0.740637</td>\n",
       "    </tr>\n",
       "    <tr>\n",
       "      <th>51</th>\n",
       "      <td>x7</td>\n",
       "      <td>x46</td>\n",
       "      <td>0.739213</td>\n",
       "    </tr>\n",
       "    <tr>\n",
       "      <th>52</th>\n",
       "      <td>x2</td>\n",
       "      <td>x10</td>\n",
       "      <td>0.735503</td>\n",
       "    </tr>\n",
       "    <tr>\n",
       "      <th>53</th>\n",
       "      <td>x2</td>\n",
       "      <td>x9</td>\n",
       "      <td>0.729858</td>\n",
       "    </tr>\n",
       "    <tr>\n",
       "      <th>54</th>\n",
       "      <td>x63</td>\n",
       "      <td>x79</td>\n",
       "      <td>0.718793</td>\n",
       "    </tr>\n",
       "    <tr>\n",
       "      <th>55</th>\n",
       "      <td>x77</td>\n",
       "      <td>x78</td>\n",
       "      <td>0.712389</td>\n",
       "    </tr>\n",
       "  </tbody>\n",
       "</table>\n",
       "</div>"
      ],
      "text/plain": [
       "   feature_a feature_b  correlation\n",
       "0        x23       x50     1.000000\n",
       "1         x3       x13     1.000000\n",
       "2        x75       x76     0.997845\n",
       "3        x16       x52     0.996677\n",
       "4        x17       x34     0.989344\n",
       "5        x68       x76     0.980423\n",
       "6        x14       x49     0.979764\n",
       "7        x68       x75     0.971307\n",
       "8        x48       x81     0.965758\n",
       "9        x32       x38     0.945412\n",
       "10       x61       x62     0.941643\n",
       "11       x70       x79     0.941285\n",
       "12       x29       x33     0.939184\n",
       "13       x68       x77     0.937393\n",
       "14      Time       x75     0.932565\n",
       "15      Time       x76     0.926182\n",
       "16       x25       x81     0.920063\n",
       "17       x76       x77     0.916450\n",
       "18        x1        x7     0.914489\n",
       "19       x35       x38     0.909884\n",
       "20       x25       x48     0.906304\n",
       "21        x5       x53     0.906145\n",
       "22       x75       x77     0.904940\n",
       "23        x2        x5     0.892480\n",
       "24      Time       x64     0.884338\n",
       "25       x43       x44     0.875050\n",
       "26        x3       x24     0.867130\n",
       "27       x13       x24     0.867129\n",
       "28      Time       x68     0.861083\n",
       "29       x32       x35     0.860213\n",
       "30       x26       x51     0.858874\n",
       "31       x64       x76     0.814309\n",
       "32       x64       x75     0.812240\n",
       "33       x64       x68     0.802918\n",
       "34       x62       x64     0.799866\n",
       "35        x2       x53     0.798938\n",
       "36       x61       x64     0.796512\n",
       "37        x6       x45     0.793954\n",
       "38        x4       x21     0.788384\n",
       "39       x11       x40     0.780524\n",
       "40      Time       x77     0.777229\n",
       "41       x29       x37     0.777099\n",
       "42        x3       x14     0.759448\n",
       "43       x13       x14     0.759447\n",
       "44        x2       x36     0.759338\n",
       "45       x24       x49     0.752674\n",
       "46        x1       x46     0.748915\n",
       "47      Time       x62     0.748330\n",
       "48        x3       x49     0.740796\n",
       "49       x13       x49     0.740796\n",
       "50       x44       x46     0.740637\n",
       "51        x7       x46     0.739213\n",
       "52        x2       x10     0.735503\n",
       "53        x2        x9     0.729858\n",
       "54       x63       x79     0.718793\n",
       "55       x77       x78     0.712389"
      ]
     },
     "execution_count": 13,
     "metadata": {},
     "output_type": "execute_result"
    }
   ],
   "source": [
    "features = fd.drop('healthy', axis = 1)\n",
    "def top_entries(df):\n",
    "    mat = df.corr().abs()\n",
    "    \n",
    "    # Remove duplicate and identity entries\n",
    "    mat.loc[:,:] = np.tril(mat.values, k=-1)\n",
    "    mat = mat[mat>0]\n",
    "\n",
    "    # Unstack, sort ascending, and reset the index, so features are in columns\n",
    "    # instead of indexes (allowing e.g. a pretty print in Jupyter).\n",
    "    # Also rename these it for good measure.\n",
    "    return (mat.unstack()\n",
    "             .sort_values(ascending=False)\n",
    "             .reset_index()\n",
    "             .rename(columns={\n",
    "                 \"level_0\": \"feature_a\",\n",
    "                 \"level_1\": \"feature_b\",\n",
    "                 0: \"correlation\"\n",
    "             }))\n",
    "forte_corr = top_entries(features).dropna()\n",
    "forte_corr = forte_corr[forte_corr['correlation'] >= .7]\n",
    "forte_corr"
   ]
  },
  {
   "cell_type": "markdown",
   "id": "7cb8f707",
   "metadata": {},
   "source": [
    "on remarque qu'il ya beaucoup de features qui sont fortement corrélées et par la suite conteint la meme info. on va choisir 0.7 comme seuil d'elimination"
   ]
  },
  {
   "cell_type": "code",
   "execution_count": 14,
   "id": "691f3647",
   "metadata": {},
   "outputs": [
    {
     "data": {
      "text/html": [
       "<div>\n",
       "<style scoped>\n",
       "    .dataframe tbody tr th:only-of-type {\n",
       "        vertical-align: middle;\n",
       "    }\n",
       "\n",
       "    .dataframe tbody tr th {\n",
       "        vertical-align: top;\n",
       "    }\n",
       "\n",
       "    .dataframe thead th {\n",
       "        text-align: right;\n",
       "    }\n",
       "</style>\n",
       "<table border=\"1\" class=\"dataframe\">\n",
       "  <thead>\n",
       "    <tr style=\"text-align: right;\">\n",
       "      <th></th>\n",
       "      <th>Company</th>\n",
       "      <th>x8</th>\n",
       "      <th>x9</th>\n",
       "      <th>x10</th>\n",
       "      <th>x12</th>\n",
       "      <th>x15</th>\n",
       "      <th>x18</th>\n",
       "      <th>x19</th>\n",
       "      <th>x20</th>\n",
       "      <th>x21</th>\n",
       "      <th>...</th>\n",
       "      <th>x72</th>\n",
       "      <th>x73</th>\n",
       "      <th>x74</th>\n",
       "      <th>x78</th>\n",
       "      <th>x79</th>\n",
       "      <th>x80</th>\n",
       "      <th>x81</th>\n",
       "      <th>x82</th>\n",
       "      <th>x83</th>\n",
       "      <th>healthy</th>\n",
       "    </tr>\n",
       "  </thead>\n",
       "  <tbody>\n",
       "    <tr>\n",
       "      <th>0</th>\n",
       "      <td>1</td>\n",
       "      <td>0.018854</td>\n",
       "      <td>0.182790</td>\n",
       "      <td>0.006449</td>\n",
       "      <td>2.00580</td>\n",
       "      <td>4.6512</td>\n",
       "      <td>0.018265</td>\n",
       "      <td>0.024978</td>\n",
       "      <td>0.027264</td>\n",
       "      <td>1.41730</td>\n",
       "      <td>...</td>\n",
       "      <td>4.0</td>\n",
       "      <td>36.0</td>\n",
       "      <td>85.437</td>\n",
       "      <td>16.0</td>\n",
       "      <td>0.2</td>\n",
       "      <td>22</td>\n",
       "      <td>0.060390</td>\n",
       "      <td>30</td>\n",
       "      <td>49</td>\n",
       "      <td>0</td>\n",
       "    </tr>\n",
       "    <tr>\n",
       "      <th>1</th>\n",
       "      <td>1</td>\n",
       "      <td>0.006423</td>\n",
       "      <td>0.035991</td>\n",
       "      <td>0.001795</td>\n",
       "      <td>-0.48644</td>\n",
       "      <td>3.7521</td>\n",
       "      <td>0.027558</td>\n",
       "      <td>0.028804</td>\n",
       "      <td>0.041102</td>\n",
       "      <td>1.18010</td>\n",
       "      <td>...</td>\n",
       "      <td>0.0</td>\n",
       "      <td>36.0</td>\n",
       "      <td>107.090</td>\n",
       "      <td>16.0</td>\n",
       "      <td>0.4</td>\n",
       "      <td>22</td>\n",
       "      <td>0.010636</td>\n",
       "      <td>31</td>\n",
       "      <td>50</td>\n",
       "      <td>0</td>\n",
       "    </tr>\n",
       "    <tr>\n",
       "      <th>2</th>\n",
       "      <td>1</td>\n",
       "      <td>-0.081423</td>\n",
       "      <td>-0.765400</td>\n",
       "      <td>-0.054324</td>\n",
       "      <td>0.41220</td>\n",
       "      <td>2.4884</td>\n",
       "      <td>0.012595</td>\n",
       "      <td>0.068116</td>\n",
       "      <td>0.014847</td>\n",
       "      <td>0.81652</td>\n",
       "      <td>...</td>\n",
       "      <td>0.0</td>\n",
       "      <td>35.0</td>\n",
       "      <td>120.870</td>\n",
       "      <td>15.0</td>\n",
       "      <td>-0.2</td>\n",
       "      <td>22</td>\n",
       "      <td>-0.455970</td>\n",
       "      <td>32</td>\n",
       "      <td>51</td>\n",
       "      <td>0</td>\n",
       "    </tr>\n",
       "    <tr>\n",
       "      <th>3</th>\n",
       "      <td>1</td>\n",
       "      <td>-0.018807</td>\n",
       "      <td>-0.107910</td>\n",
       "      <td>-0.065316</td>\n",
       "      <td>0.99490</td>\n",
       "      <td>1.6382</td>\n",
       "      <td>0.011601</td>\n",
       "      <td>0.094385</td>\n",
       "      <td>0.014415</td>\n",
       "      <td>0.90391</td>\n",
       "      <td>...</td>\n",
       "      <td>4.0</td>\n",
       "      <td>33.0</td>\n",
       "      <td>54.806</td>\n",
       "      <td>16.0</td>\n",
       "      <td>5.6</td>\n",
       "      <td>22</td>\n",
       "      <td>-0.325390</td>\n",
       "      <td>33</td>\n",
       "      <td>52</td>\n",
       "      <td>1</td>\n",
       "    </tr>\n",
       "    <tr>\n",
       "      <th>4</th>\n",
       "      <td>2</td>\n",
       "      <td>0.128030</td>\n",
       "      <td>0.577250</td>\n",
       "      <td>0.094075</td>\n",
       "      <td>3.01470</td>\n",
       "      <td>1.6169</td>\n",
       "      <td>0.006814</td>\n",
       "      <td>0.079346</td>\n",
       "      <td>0.008876</td>\n",
       "      <td>1.02510</td>\n",
       "      <td>...</td>\n",
       "      <td>4.0</td>\n",
       "      <td>36.0</td>\n",
       "      <td>85.437</td>\n",
       "      <td>16.0</td>\n",
       "      <td>0.2</td>\n",
       "      <td>29</td>\n",
       "      <td>1.251000</td>\n",
       "      <td>7</td>\n",
       "      <td>27</td>\n",
       "      <td>0</td>\n",
       "    </tr>\n",
       "  </tbody>\n",
       "</table>\n",
       "<p>5 rows × 54 columns</p>\n",
       "</div>"
      ],
      "text/plain": [
       "   Company        x8        x9       x10      x12     x15       x18       x19  \\\n",
       "0        1  0.018854  0.182790  0.006449  2.00580  4.6512  0.018265  0.024978   \n",
       "1        1  0.006423  0.035991  0.001795 -0.48644  3.7521  0.027558  0.028804   \n",
       "2        1 -0.081423 -0.765400 -0.054324  0.41220  2.4884  0.012595  0.068116   \n",
       "3        1 -0.018807 -0.107910 -0.065316  0.99490  1.6382  0.011601  0.094385   \n",
       "4        2  0.128030  0.577250  0.094075  3.01470  1.6169  0.006814  0.079346   \n",
       "\n",
       "        x20      x21  ...  x72   x73      x74   x78  x79  x80       x81  x82  \\\n",
       "0  0.027264  1.41730  ...  4.0  36.0   85.437  16.0  0.2   22  0.060390   30   \n",
       "1  0.041102  1.18010  ...  0.0  36.0  107.090  16.0  0.4   22  0.010636   31   \n",
       "2  0.014847  0.81652  ...  0.0  35.0  120.870  15.0 -0.2   22 -0.455970   32   \n",
       "3  0.014415  0.90391  ...  4.0  33.0   54.806  16.0  5.6   22 -0.325390   33   \n",
       "4  0.008876  1.02510  ...  4.0  36.0   85.437  16.0  0.2   29  1.251000    7   \n",
       "\n",
       "   x83  healthy  \n",
       "0   49        0  \n",
       "1   50        0  \n",
       "2   51        0  \n",
       "3   52        1  \n",
       "4   27        0  \n",
       "\n",
       "[5 rows x 54 columns]"
      ]
     },
     "execution_count": 14,
     "metadata": {},
     "output_type": "execute_result"
    }
   ],
   "source": [
    "var_elim = forte_corr['feature_a']\n",
    "var_elim = [x for x in var_elim]\n",
    "var_elim = list(dict.fromkeys(var_elim))\n",
    "new_df=fd.drop(var_elim, axis = 1)\n",
    "new_df.head()"
   ]
  },
  {
   "cell_type": "code",
   "execution_count": 15,
   "id": "8aad0afe",
   "metadata": {},
   "outputs": [
    {
     "name": "stdout",
     "output_type": "stream",
     "text": [
      "le nombre de colonne du nouveau dataset est : 54\n"
     ]
    }
   ],
   "source": [
    "print(\"le nombre de colonne du nouveau dataset est : {}\".format(new_df.shape[1]))"
   ]
  },
  {
   "cell_type": "code",
   "execution_count": 16,
   "id": "c3d38058",
   "metadata": {},
   "outputs": [
    {
     "data": {
      "image/png": "[encoded data removed]",
      "text/plain": [
       "<Figure size 432x288 with 1 Axes>"
      ]
     },
     "metadata": {
      "needs_background": "light"
     },
     "output_type": "display_data"
    }
   ],
   "source": [
    "model = RandomForestClassifier(random_state=0)\n",
    "model.fit(features,new_df['healthy'])\n",
    "feat_importances = pd.Series(model.feature_importances_, index=features.columns)\n",
    "feat_importances.nlargest(10).plot(kind='barh')\n",
    "plt.show()"
   ]
  },
  {
   "cell_type": "markdown",
   "id": "8ff4a202",
   "metadata": {},
   "source": [
    "## 4.2 correlation entre les feutures et la target"
   ]
  },
  {
   "cell_type": "code",
   "execution_count": 17,
   "id": "732e5f3e",
   "metadata": {},
   "outputs": [
    {
     "data": {
      "text/plain": [
       "healthy    1.000000\n",
       "x49        0.277275\n",
       "x37        0.184847\n",
       "x50        0.181490\n",
       "x41        0.105527\n",
       "dtype: float64"
      ]
     },
     "execution_count": 17,
     "metadata": {},
     "output_type": "execute_result"
    }
   ],
   "source": [
    "new_df.corrwith(new_df['healthy']).sort_values(ascending=False).head()"
   ]
  },
  {
   "cell_type": "markdown",
   "id": "90b05c10",
   "metadata": {},
   "source": [
    "on remarque que les features ne sont pas corrélées avec la variable healthy"
   ]
  },
  {
   "cell_type": "markdown",
   "id": "ad5b7c55",
   "metadata": {},
   "source": [
    "# 5. Visualisations"
   ]
  },
  {
   "cell_type": "markdown",
   "id": "66bef968",
   "metadata": {},
   "source": [
    "## 5.1 Categorical features visualisation"
   ]
  },
  {
   "cell_type": "markdown",
   "id": "b148da03",
   "metadata": {},
   "source": [
    "#### b. x80 variable"
   ]
  },
  {
   "cell_type": "code",
   "execution_count": 18,
   "id": "e97a2c86",
   "metadata": {},
   "outputs": [
    {
     "data": {
      "text/plain": [
       "<seaborn.axisgrid.FacetGrid at 0x15ad7e079a0>"
      ]
     },
     "execution_count": 18,
     "metadata": {},
     "output_type": "execute_result"
    },
    {
     "data": {
      "image/png": "[encoded data removed]",
      "text/plain": [
       "<Figure size 360x360 with 1 Axes>"
      ]
     },
     "metadata": {
      "needs_background": "light"
     },
     "output_type": "display_data"
    }
   ],
   "source": [
    "sns.catplot(x=\"x80\", y=\"healthy\", kind=\"bar\", data=fd)"
   ]
  },
  {
   "cell_type": "markdown",
   "id": "2345d6a2",
   "metadata": {},
   "source": [
    "on reamrque que l'intervalle de confiance du variable time est trop grand"
   ]
  },
  {
   "cell_type": "markdown",
   "id": "25d6272e",
   "metadata": {},
   "source": [
    "## 5.2 numerical variables"
   ]
  },
  {
   "cell_type": "markdown",
   "id": "5cd8ff57",
   "metadata": {},
   "source": [
    "malgré la reduction d'un nombre important de variable mais il y a toujours 53 variables ce qui est difficile pour la visualisation. c'est pour cela , on va utiliser la PCA pour reduire la dimension de ce jeu de données"
   ]
  },
  {
   "cell_type": "code",
   "execution_count": 19,
   "id": "72026eb1",
   "metadata": {},
   "outputs": [
    {
     "data": {
      "text/html": [
       "<div>\n",
       "<style scoped>\n",
       "    .dataframe tbody tr th:only-of-type {\n",
       "        vertical-align: middle;\n",
       "    }\n",
       "\n",
       "    .dataframe tbody tr th {\n",
       "        vertical-align: top;\n",
       "    }\n",
       "\n",
       "    .dataframe thead th {\n",
       "        text-align: right;\n",
       "    }\n",
       "</style>\n",
       "<table border=\"1\" class=\"dataframe\">\n",
       "  <thead>\n",
       "    <tr style=\"text-align: right;\">\n",
       "      <th></th>\n",
       "      <th>x8</th>\n",
       "      <th>x9</th>\n",
       "      <th>x10</th>\n",
       "      <th>x12</th>\n",
       "      <th>x15</th>\n",
       "      <th>x18</th>\n",
       "      <th>x19</th>\n",
       "      <th>x20</th>\n",
       "      <th>x21</th>\n",
       "      <th>x22</th>\n",
       "      <th>...</th>\n",
       "      <th>x71</th>\n",
       "      <th>x72</th>\n",
       "      <th>x73</th>\n",
       "      <th>x74</th>\n",
       "      <th>x78</th>\n",
       "      <th>x79</th>\n",
       "      <th>x81</th>\n",
       "      <th>x82</th>\n",
       "      <th>x83</th>\n",
       "      <th>healthy</th>\n",
       "    </tr>\n",
       "  </thead>\n",
       "  <tbody>\n",
       "    <tr>\n",
       "      <th>0</th>\n",
       "      <td>0.018854</td>\n",
       "      <td>0.182790</td>\n",
       "      <td>0.006449</td>\n",
       "      <td>2.00580</td>\n",
       "      <td>4.6512</td>\n",
       "      <td>0.018265</td>\n",
       "      <td>0.024978</td>\n",
       "      <td>0.027264</td>\n",
       "      <td>1.41730</td>\n",
       "      <td>9.5554</td>\n",
       "      <td>...</td>\n",
       "      <td>61.476</td>\n",
       "      <td>4.0</td>\n",
       "      <td>36.0</td>\n",
       "      <td>85.437</td>\n",
       "      <td>16.0</td>\n",
       "      <td>0.2</td>\n",
       "      <td>0.060390</td>\n",
       "      <td>30</td>\n",
       "      <td>49</td>\n",
       "      <td>0</td>\n",
       "    </tr>\n",
       "    <tr>\n",
       "      <th>1</th>\n",
       "      <td>0.006423</td>\n",
       "      <td>0.035991</td>\n",
       "      <td>0.001795</td>\n",
       "      <td>-0.48644</td>\n",
       "      <td>3.7521</td>\n",
       "      <td>0.027558</td>\n",
       "      <td>0.028804</td>\n",
       "      <td>0.041102</td>\n",
       "      <td>1.18010</td>\n",
       "      <td>7.2952</td>\n",
       "      <td>...</td>\n",
       "      <td>24.579</td>\n",
       "      <td>0.0</td>\n",
       "      <td>36.0</td>\n",
       "      <td>107.090</td>\n",
       "      <td>16.0</td>\n",
       "      <td>0.4</td>\n",
       "      <td>0.010636</td>\n",
       "      <td>31</td>\n",
       "      <td>50</td>\n",
       "      <td>0</td>\n",
       "    </tr>\n",
       "    <tr>\n",
       "      <th>2</th>\n",
       "      <td>-0.081423</td>\n",
       "      <td>-0.765400</td>\n",
       "      <td>-0.054324</td>\n",
       "      <td>0.41220</td>\n",
       "      <td>2.4884</td>\n",
       "      <td>0.012595</td>\n",
       "      <td>0.068116</td>\n",
       "      <td>0.014847</td>\n",
       "      <td>0.81652</td>\n",
       "      <td>7.1204</td>\n",
       "      <td>...</td>\n",
       "      <td>20.700</td>\n",
       "      <td>0.0</td>\n",
       "      <td>35.0</td>\n",
       "      <td>120.870</td>\n",
       "      <td>15.0</td>\n",
       "      <td>-0.2</td>\n",
       "      <td>-0.455970</td>\n",
       "      <td>32</td>\n",
       "      <td>51</td>\n",
       "      <td>0</td>\n",
       "    </tr>\n",
       "    <tr>\n",
       "      <th>3</th>\n",
       "      <td>-0.018807</td>\n",
       "      <td>-0.107910</td>\n",
       "      <td>-0.065316</td>\n",
       "      <td>0.99490</td>\n",
       "      <td>1.6382</td>\n",
       "      <td>0.011601</td>\n",
       "      <td>0.094385</td>\n",
       "      <td>0.014415</td>\n",
       "      <td>0.90391</td>\n",
       "      <td>7.9828</td>\n",
       "      <td>...</td>\n",
       "      <td>47.429</td>\n",
       "      <td>4.0</td>\n",
       "      <td>33.0</td>\n",
       "      <td>54.806</td>\n",
       "      <td>16.0</td>\n",
       "      <td>5.6</td>\n",
       "      <td>-0.325390</td>\n",
       "      <td>33</td>\n",
       "      <td>52</td>\n",
       "      <td>1</td>\n",
       "    </tr>\n",
       "    <tr>\n",
       "      <th>4</th>\n",
       "      <td>0.128030</td>\n",
       "      <td>0.577250</td>\n",
       "      <td>0.094075</td>\n",
       "      <td>3.01470</td>\n",
       "      <td>1.6169</td>\n",
       "      <td>0.006814</td>\n",
       "      <td>0.079346</td>\n",
       "      <td>0.008876</td>\n",
       "      <td>1.02510</td>\n",
       "      <td>4.7463</td>\n",
       "      <td>...</td>\n",
       "      <td>61.476</td>\n",
       "      <td>4.0</td>\n",
       "      <td>36.0</td>\n",
       "      <td>85.437</td>\n",
       "      <td>16.0</td>\n",
       "      <td>0.2</td>\n",
       "      <td>1.251000</td>\n",
       "      <td>7</td>\n",
       "      <td>27</td>\n",
       "      <td>0</td>\n",
       "    </tr>\n",
       "  </tbody>\n",
       "</table>\n",
       "<p>5 rows × 52 columns</p>\n",
       "</div>"
      ],
      "text/plain": [
       "         x8        x9       x10      x12     x15       x18       x19  \\\n",
       "0  0.018854  0.182790  0.006449  2.00580  4.6512  0.018265  0.024978   \n",
       "1  0.006423  0.035991  0.001795 -0.48644  3.7521  0.027558  0.028804   \n",
       "2 -0.081423 -0.765400 -0.054324  0.41220  2.4884  0.012595  0.068116   \n",
       "3 -0.018807 -0.107910 -0.065316  0.99490  1.6382  0.011601  0.094385   \n",
       "4  0.128030  0.577250  0.094075  3.01470  1.6169  0.006814  0.079346   \n",
       "\n",
       "        x20      x21     x22  ...     x71  x72   x73      x74   x78  x79  \\\n",
       "0  0.027264  1.41730  9.5554  ...  61.476  4.0  36.0   85.437  16.0  0.2   \n",
       "1  0.041102  1.18010  7.2952  ...  24.579  0.0  36.0  107.090  16.0  0.4   \n",
       "2  0.014847  0.81652  7.1204  ...  20.700  0.0  35.0  120.870  15.0 -0.2   \n",
       "3  0.014415  0.90391  7.9828  ...  47.429  4.0  33.0   54.806  16.0  5.6   \n",
       "4  0.008876  1.02510  4.7463  ...  61.476  4.0  36.0   85.437  16.0  0.2   \n",
       "\n",
       "        x81  x82  x83  healthy  \n",
       "0  0.060390   30   49        0  \n",
       "1  0.010636   31   50        0  \n",
       "2 -0.455970   32   51        0  \n",
       "3 -0.325390   33   52        1  \n",
       "4  1.251000    7   27        0  \n",
       "\n",
       "[5 rows x 52 columns]"
      ]
     },
     "execution_count": 19,
     "metadata": {},
     "output_type": "execute_result"
    }
   ],
   "source": [
    "cat = ['Company', 'x80', 'Financial Distress' ]\n",
    "num = [x for x in new_df.columns if x not in cat]\n",
    "num_features = new_df[num] \n",
    "num_features.head()"
   ]
  },
  {
   "cell_type": "code",
   "execution_count": 20,
   "id": "8a03c38a",
   "metadata": {},
   "outputs": [
    {
     "data": {
      "text/plain": [
       "Text(0, 0.5, 'Cumulative explained variance')"
      ]
     },
     "execution_count": 20,
     "metadata": {},
     "output_type": "execute_result"
    },
    {
     "data": {
      "image/png": "[encoded data removed]",
      "text/plain": [
       "<Figure size 432x288 with 1 Axes>"
      ]
     },
     "metadata": {
      "needs_background": "light"
     },
     "output_type": "display_data"
    }
   ],
   "source": [
    "pca = PCA().fit(num_features)\n",
    "plt.plot(np.cumsum(pca.explained_variance_ratio_))\n",
    "plt.xlim(0,5,1)\n",
    "plt.xlabel('Number of components')\n",
    "plt.ylabel('Cumulative explained variance')"
   ]
  },
  {
   "cell_type": "markdown",
   "id": "3ed0b0ed",
   "metadata": {},
   "source": [
    "on reamrque plus de 100% de l'information est contenue dans les 2 premieres composantes"
   ]
  },
  {
   "cell_type": "code",
   "execution_count": 21,
   "id": "2ecc6181",
   "metadata": {},
   "outputs": [
    {
     "name": "stdout",
     "output_type": "stream",
     "text": [
      "le volume du dataset original :  (3672, 52)\n",
      "le volume du dataset reduit : (3672, 2)\n"
     ]
    }
   ],
   "source": [
    "# scaling data\n",
    "\n",
    "scaler = StandardScaler()\n",
    "scaler.fit(num_features)\n",
    "scaled_data = scaler.transform(num_features)\n",
    "\n",
    "# applying Principal component analysis\n",
    "pca = PCA(n_components=2)\n",
    "pca.fit(scaled_data)\n",
    "x_pca = pca.transform(scaled_data)\n",
    "\n",
    "print(\"le volume du dataset original : \",scaled_data.shape)\n",
    "print(\"le volume du dataset reduit :\", x_pca.shape)"
   ]
  },
  {
   "cell_type": "code",
   "execution_count": 22,
   "id": "5892d986",
   "metadata": {},
   "outputs": [
    {
     "data": {
      "text/plain": [
       "Text(0, 0.5, 'Second Principal Component')"
      ]
     },
     "execution_count": 22,
     "metadata": {},
     "output_type": "execute_result"
    },
    {
     "data": {
      "image/png": "[encoded data removed]",
      "text/plain": [
       "<Figure size 576x432 with 1 Axes>"
      ]
     },
     "metadata": {
      "needs_background": "light"
     },
     "output_type": "display_data"
    }
   ],
   "source": [
    "\n",
    "\n",
    "plt.figure(figsize=(8,6))\n",
    "plt.scatter(x_pca[:,0],x_pca[:,1],c=fd['healthy'],cmap='plasma')\n",
    "plt.xlabel('First principal component')\n",
    "plt.ylabel('Second Principal Component')\n"
   ]
  },
  {
   "cell_type": "markdown",
   "id": "032040a2",
   "metadata": {},
   "source": [
    "on remarque que le dataset est trés déséquilibré"
   ]
  },
  {
   "cell_type": "code",
   "execution_count": 23,
   "id": "88836f25",
   "metadata": {},
   "outputs": [],
   "source": [
    "df_comp = pd.DataFrame(pca.components_,columns=num)"
   ]
  },
  {
   "cell_type": "code",
   "execution_count": 24,
   "id": "8c2346bb",
   "metadata": {},
   "outputs": [
    {
     "data": {
      "text/plain": [
       "<AxesSubplot:>"
      ]
     },
     "execution_count": 24,
     "metadata": {},
     "output_type": "execute_result"
    },
    {
     "data": {
      "image/png": "[encoded data removed]",
      "text/plain": [
       "<Figure size 864x432 with 2 Axes>"
      ]
     },
     "metadata": {
      "needs_background": "light"
     },
     "output_type": "display_data"
    }
   ],
   "source": [
    "plt.figure(figsize=(12,6))\n",
    "sns.heatmap(df_comp,cmap='plasma',)"
   ]
  },
  {
   "cell_type": "markdown",
   "id": "d9416d8c",
   "metadata": {},
   "source": [
    "on remaque que : <br>\n",
    "    - x50 qui a le plus d'impact le plus d'impact sur la composante 0 <br>\n",
    "    - x30, x33 et x40 ont le plus d'impact sur la composnate 1\n",
    "    <br>\n",
    " c'est pour cela on se contantera de visualiser  ces variables"
   ]
  },
  {
   "cell_type": "markdown",
   "id": "aaf7d02e",
   "metadata": {},
   "source": [
    "#### a. x50 <br>\n",
    "plot of the x50 distribution of companies who are healthy and not healthy"
   ]
  },
  {
   "cell_type": "code",
   "execution_count": 25,
   "id": "3bff8383",
   "metadata": {},
   "outputs": [
    {
     "data": {
      "image/png": "[encoded data removed]",
      "text/plain": [
       "<Figure size 909.625x216 with 1 Axes>"
      ]
     },
     "metadata": {
      "needs_background": "light"
     },
     "output_type": "display_data"
    }
   ],
   "source": [
    "plot_distribution( new_df , var = 'x50' , target = 'healthy' , row = None )"
   ]
  },
  {
   "cell_type": "markdown",
   "id": "c6fa65d2",
   "metadata": {},
   "source": [
    "#### b. x30 <br>\n",
    "plot of the x30 distribution of companies who are healthy and not healthy\n"
   ]
  },
  {
   "cell_type": "code",
   "execution_count": 26,
   "id": "6187c0f1",
   "metadata": {},
   "outputs": [
    {
     "data": {
      "image/png": "[encoded data removed]",
      "text/plain": [
       "<Figure size 909.625x216 with 1 Axes>"
      ]
     },
     "metadata": {
      "needs_background": "light"
     },
     "output_type": "display_data"
    }
   ],
   "source": [
    "plot_distribution( new_df , var = 'x30' , target = 'healthy' , row = None )"
   ]
  },
  {
   "cell_type": "markdown",
   "id": "3a4187e5",
   "metadata": {},
   "source": [
    "#### b. x40 <br>\n",
    "plot of the x40 distribution of companies who are healthy and not healthy"
   ]
  },
  {
   "cell_type": "code",
   "execution_count": 27,
   "id": "28820f1a",
   "metadata": {},
   "outputs": [
    {
     "data": {
      "image/png": "[encoded data removed]",
      "text/plain": [
       "<Figure size 909.625x216 with 1 Axes>"
      ]
     },
     "metadata": {
      "needs_background": "light"
     },
     "output_type": "display_data"
    }
   ],
   "source": [
    "plot_distribution( new_df , var = 'x40' , target = 'healthy' , row = None )"
   ]
  },
  {
   "cell_type": "markdown",
   "id": "debfe7a9",
   "metadata": {},
   "source": [
    "#### c. x33 <br>\n",
    "plot of the x33 distribution of companies who are healthy and not healthy"
   ]
  },
  {
   "cell_type": "code",
   "execution_count": 28,
   "id": "3e5d9439",
   "metadata": {},
   "outputs": [
    {
     "data": {
      "image/png": "[encoded data removed]",
      "text/plain": [
       "<Figure size 909.625x216 with 1 Axes>"
      ]
     },
     "metadata": {
      "needs_background": "light"
     },
     "output_type": "display_data"
    }
   ],
   "source": [
    "plot_distribution( new_df , var = 'x33' , target = 'healthy' , row = None )"
   ]
  },
  {
   "cell_type": "markdown",
   "id": "66d6553d",
   "metadata": {},
   "source": [
    "# 6. features engineering"
   ]
  },
  {
   "cell_type": "markdown",
   "id": "78de8d68",
   "metadata": {},
   "source": [
    "## 6.1 spliting and resempling data"
   ]
  },
  {
   "cell_type": "markdown",
   "id": "a88d950b",
   "metadata": {},
   "source": [
    "on va utiliser le knn classifier pour tester quelle methode du resampling est la plus convenable à notre dataset"
   ]
  },
  {
   "cell_type": "markdown",
   "id": "28113540",
   "metadata": {},
   "source": [
    "on va séparer notre data car l'objectif principale est de la tester sur les données originales et non pas les données crées par la technique de resampling qu'on va choisir ensuite puis on va faire du feature engineering sur le train et le test set separément"
   ]
  },
  {
   "cell_type": "code",
   "execution_count": 29,
   "id": "3d685921",
   "metadata": {},
   "outputs": [],
   "source": [
    "X = new_df.drop('healthy', axis = 1)\n",
    "y = new_df['healthy']\n",
    "x_train, x_test, y_train, y_test = train_test_split(X, y, test_size=0.3, random_state=4)\n",
    "model = KNeighborsClassifier(n_neighbors=3)\n",
    "res_x = []\n",
    "res_y =[]\n",
    "for x in range(4) :\n",
    "    res_x.append(x_train)\n",
    "    res_y.append(y_train)"
   ]
  },
  {
   "cell_type": "markdown",
   "id": "ed533b88",
   "metadata": {},
   "source": [
    "## 6.2 Choix de la methode de resampling"
   ]
  },
  {
   "cell_type": "markdown",
   "id": "50425db8",
   "metadata": {},
   "source": [
    "### 6.2.1 Undersampling"
   ]
  },
  {
   "cell_type": "code",
   "execution_count": 30,
   "id": "dca3fd9a",
   "metadata": {},
   "outputs": [
    {
     "name": "stdout",
     "output_type": "stream",
     "text": [
      "Mean ROC AUC: 0.624\n"
     ]
    }
   ],
   "source": [
    "under = RandomUnderSampler(sampling_strategy=0.5)\n",
    "steps = [('under', under), ('model', model)]\n",
    "pipeline = Pipeline(steps=steps)\n",
    "cv = RepeatedStratifiedKFold(n_splits=10, n_repeats=3, random_state=1)\n",
    "scores = cross_val_score(pipeline, res_x[0], res_y[0], scoring='roc_auc', cv=cv, n_jobs=-1)\n",
    "print('Mean ROC AUC: %.3f' % mean(scores))"
   ]
  },
  {
   "cell_type": "markdown",
   "id": "c74c9eec",
   "metadata": {},
   "source": [
    "### 6.2.2 Oversampling"
   ]
  },
  {
   "cell_type": "code",
   "execution_count": 31,
   "id": "16799cfe",
   "metadata": {},
   "outputs": [
    {
     "name": "stdout",
     "output_type": "stream",
     "text": [
      "Mean ROC AUC: 0.540\n"
     ]
    }
   ],
   "source": [
    "over = RandomOverSampler(sampling_strategy=0.5)\n",
    "steps = [('over', over),('model', model)]\n",
    "pipeline = Pipeline(steps=steps)\n",
    "cv = RepeatedStratifiedKFold(n_splits=10, n_repeats=3, random_state=1)\n",
    "scores = cross_val_score(pipeline, res_x[1], res_y[1], scoring='roc_auc', cv=cv, n_jobs=-1)\n",
    "print('Mean ROC AUC: %.3f' % mean(scores))"
   ]
  },
  {
   "cell_type": "markdown",
   "id": "5214a235",
   "metadata": {},
   "source": [
    "### 6.2.3 SMOTE"
   ]
  },
  {
   "cell_type": "code",
   "execution_count": 32,
   "id": "4b742468",
   "metadata": {},
   "outputs": [
    {
     "name": "stdout",
     "output_type": "stream",
     "text": [
      "Mean ROC AUC: 0.557\n"
     ]
    }
   ],
   "source": [
    "smote = SMOTE(sampling_strategy=0.1)\n",
    "steps = [('smote', smote),('model', model)]\n",
    "pipeline = Pipeline(steps=steps)\n",
    "cv = RepeatedStratifiedKFold(n_splits=10, n_repeats=3, random_state=1)\n",
    "scores = cross_val_score(pipeline, res_x[2], res_y[2], scoring='roc_auc', cv=cv, n_jobs=-1)\n",
    "print('Mean ROC AUC: %.3f' % mean(scores))"
   ]
  },
  {
   "cell_type": "markdown",
   "id": "594fc66c",
   "metadata": {},
   "source": [
    "### 6.2.4 SMOTE suivi par le undersampling"
   ]
  },
  {
   "cell_type": "code",
   "execution_count": 33,
   "id": "a0bd9744",
   "metadata": {},
   "outputs": [
    {
     "name": "stdout",
     "output_type": "stream",
     "text": [
      "Mean ROC AUC: 0.623\n"
     ]
    }
   ],
   "source": [
    "smote = SMOTE(sampling_strategy=0.1)\n",
    "under = RandomUnderSampler(sampling_strategy=0.5)\n",
    "steps = [('smote', smote),('under', under),('model', model)]\n",
    "pipeline = Pipeline(steps=steps)\n",
    "cv = RepeatedStratifiedKFold(n_splits=10, n_repeats=3, random_state=1)\n",
    "scores = cross_val_score(pipeline, res_x[3], res_y[3], scoring='roc_auc', cv=cv, n_jobs=-1)\n",
    "print('Mean ROC AUC: %.3f' % mean(scores))"
   ]
  },
  {
   "cell_type": "markdown",
   "id": "c3487b90",
   "metadata": {},
   "source": [
    "dans notre cas on remarque que le smote suivi par undersampling qui a la meuilleure performance mais d'aprés nos recherches , il es plus convenable de faire du features engineering avant le resampling"
   ]
  },
  {
   "cell_type": "code",
   "execution_count": 34,
   "id": "621b66a0",
   "metadata": {},
   "outputs": [],
   "source": [
    "x_train, x_test, y_train, y_test = train_test_split(X, y, test_size=0.3, random_state=4)\n",
    "smote = SMOTE(sampling_strategy=0.2)\n",
    "under = RandomUnderSampler(sampling_strategy=0.6)\n",
    "x_train, y_train = smote.fit_resample(x_train, y_train)\n",
    "x_train,y_train=under.fit_resample(x_train,y_train)"
   ]
  },
  {
   "cell_type": "code",
   "execution_count": 35,
   "id": "e97f6418",
   "metadata": {},
   "outputs": [
    {
     "data": {
      "image/png": "[encoded data removed]",
      "text/plain": [
       "<Figure size 576x360 with 1 Axes>"
      ]
     },
     "metadata": {
      "needs_background": "light"
     },
     "output_type": "display_data"
    }
   ],
   "source": [
    "total = float(len(x_train))\n",
    "plt.figure(figsize=(8,5))\n",
    "ax = sns.countplot(x = y_train, data=x_train)\n",
    "plt.title('distrubution de l etat de l entreprise \\n (0: healthy || 1: unhealthy)', fontsize=14)\n",
    "for p in ax.patches:\n",
    "    percentage = '{:.1f}%'.format(100 * p.get_height()/total)\n",
    "    x = p.get_x() + p.get_width()\n",
    "    y = p.get_height()\n",
    "    ax.annotate(percentage, (x, y),ha='center')\n",
    "\n",
    "plt.show()"
   ]
  },
  {
   "cell_type": "markdown",
   "id": "73405891",
   "metadata": {},
   "source": [
    "# 7. Choix de l'algorithme"
   ]
  },
  {
   "cell_type": "markdown",
   "id": "03e41c69",
   "metadata": {},
   "source": [
    "## 7.1 logistic regression"
   ]
  },
  {
   "cell_type": "code",
   "execution_count": 36,
   "id": "51fb4ea1",
   "metadata": {},
   "outputs": [
    {
     "name": "stdout",
     "output_type": "stream",
     "text": [
      "Accuracy of Logistic regression classifier on training set: 0.68\n",
      "Accuracy of Logistic regression classifier on test set: 0.80\n"
     ]
    }
   ],
   "source": [
    "LR_clf = LogisticRegression()\n",
    "LR_clf.fit(x_train, y_train)\n",
    "print('Accuracy of Logistic regression classifier on training set: {:.2f}'\n",
    "     .format(LR_clf.score(x_train, y_train)))\n",
    "print('Accuracy of Logistic regression classifier on test set: {:.2f}'\n",
    "     .format(LR_clf.score(x_test, y_test)))"
   ]
  },
  {
   "cell_type": "code",
   "execution_count": 37,
   "id": "f8f529de",
   "metadata": {},
   "outputs": [
    {
     "data": {
      "text/plain": [
       "<AxesSubplot:>"
      ]
     },
     "execution_count": 37,
     "metadata": {},
     "output_type": "execute_result"
    },
    {
     "data": {
      "image/png": "[encoded data removed]",
      "text/plain": [
       "<Figure size 432x288 with 2 Axes>"
      ]
     },
     "metadata": {
      "needs_background": "light"
     },
     "output_type": "display_data"
    }
   ],
   "source": [
    "y_pred = LR_clf.predict(x_test)\n",
    "cf_matrix = confusion_matrix(y_test, y_pred)\n",
    "sns.heatmap(cf_matrix, annot=True)"
   ]
  },
  {
   "cell_type": "code",
   "execution_count": 38,
   "id": "1b46f8a9",
   "metadata": {},
   "outputs": [
    {
     "data": {
      "text/html": [
       "<div>\n",
       "<style scoped>\n",
       "    .dataframe tbody tr th:only-of-type {\n",
       "        vertical-align: middle;\n",
       "    }\n",
       "\n",
       "    .dataframe tbody tr th {\n",
       "        vertical-align: top;\n",
       "    }\n",
       "\n",
       "    .dataframe thead th {\n",
       "        text-align: right;\n",
       "    }\n",
       "</style>\n",
       "<table border=\"1\" class=\"dataframe\">\n",
       "  <thead>\n",
       "    <tr style=\"text-align: right;\">\n",
       "      <th></th>\n",
       "      <th>precision</th>\n",
       "      <th>recall</th>\n",
       "      <th>f1-score</th>\n",
       "      <th>support</th>\n",
       "    </tr>\n",
       "  </thead>\n",
       "  <tbody>\n",
       "    <tr>\n",
       "      <th>0</th>\n",
       "      <td>0.975253</td>\n",
       "      <td>0.811798</td>\n",
       "      <td>0.886050</td>\n",
       "      <td>1068.000000</td>\n",
       "    </tr>\n",
       "    <tr>\n",
       "      <th>1</th>\n",
       "      <td>0.056338</td>\n",
       "      <td>0.352941</td>\n",
       "      <td>0.097166</td>\n",
       "      <td>34.000000</td>\n",
       "    </tr>\n",
       "    <tr>\n",
       "      <th>accuracy</th>\n",
       "      <td>0.797641</td>\n",
       "      <td>0.797641</td>\n",
       "      <td>0.797641</td>\n",
       "      <td>0.797641</td>\n",
       "    </tr>\n",
       "    <tr>\n",
       "      <th>macro avg</th>\n",
       "      <td>0.515796</td>\n",
       "      <td>0.582369</td>\n",
       "      <td>0.491608</td>\n",
       "      <td>1102.000000</td>\n",
       "    </tr>\n",
       "    <tr>\n",
       "      <th>weighted avg</th>\n",
       "      <td>0.946902</td>\n",
       "      <td>0.797641</td>\n",
       "      <td>0.861711</td>\n",
       "      <td>1102.000000</td>\n",
       "    </tr>\n",
       "  </tbody>\n",
       "</table>\n",
       "</div>"
      ],
      "text/plain": [
       "              precision    recall  f1-score      support\n",
       "0              0.975253  0.811798  0.886050  1068.000000\n",
       "1              0.056338  0.352941  0.097166    34.000000\n",
       "accuracy       0.797641  0.797641  0.797641     0.797641\n",
       "macro avg      0.515796  0.582369  0.491608  1102.000000\n",
       "weighted avg   0.946902  0.797641  0.861711  1102.000000"
      ]
     },
     "execution_count": 38,
     "metadata": {},
     "output_type": "execute_result"
    }
   ],
   "source": [
    "pd.DataFrame(classification_report(y_test, y_pred, output_dict=True)).T"
   ]
  },
  {
   "cell_type": "code",
   "execution_count": null,
   "id": "70790d29",
   "metadata": {},
   "outputs": [],
   "source": []
  },
  {
   "cell_type": "markdown",
   "id": "14bd0356",
   "metadata": {},
   "source": [
    "## 7.2 KNN"
   ]
  },
  {
   "cell_type": "code",
   "execution_count": 39,
   "id": "eb1a4660",
   "metadata": {},
   "outputs": [],
   "source": [
    "knn_pipe = make_pipeline(StandardScaler(), KNeighborsClassifier())\n",
    "param_grid = {'kneighborsclassifier__n_neighbors': range(1, 10)}\n",
    "grid = GridSearchCV(knn_pipe, param_grid, cv=10, scoring='accuracy')\n",
    "grid_search=grid.fit(x_train, y_train)"
   ]
  },
  {
   "cell_type": "code",
   "execution_count": 40,
   "id": "2ba624f5",
   "metadata": {},
   "outputs": [
    {
     "name": "stdout",
     "output_type": "stream",
     "text": [
      "{'kneighborsclassifier__n_neighbors': 2}\n",
      "0.9292196007259528\n"
     ]
    }
   ],
   "source": [
    "\n",
    "print(grid.best_params_)\n",
    "print(grid.score(x_test, y_test))"
   ]
  },
  {
   "cell_type": "code",
   "execution_count": 41,
   "id": "b47c9224",
   "metadata": {},
   "outputs": [
    {
     "data": {
      "text/plain": [
       "<AxesSubplot:>"
      ]
     },
     "execution_count": 41,
     "metadata": {},
     "output_type": "execute_result"
    },
    {
     "data": {
      "image/png": "[encoded data removed]",
      "text/plain": [
       "<Figure size 432x288 with 2 Axes>"
      ]
     },
     "metadata": {
      "needs_background": "light"
     },
     "output_type": "display_data"
    }
   ],
   "source": [
    "y_pred = grid.predict(x_test)\n",
    "cf_matrix = confusion_matrix(y_test, y_pred)\n",
    "sns.heatmap(cf_matrix, annot=True)"
   ]
  },
  {
   "cell_type": "code",
   "execution_count": 42,
   "id": "09c9d1c1",
   "metadata": {},
   "outputs": [
    {
     "data": {
      "text/html": [
       "<div>\n",
       "<style scoped>\n",
       "    .dataframe tbody tr th:only-of-type {\n",
       "        vertical-align: middle;\n",
       "    }\n",
       "\n",
       "    .dataframe tbody tr th {\n",
       "        vertical-align: top;\n",
       "    }\n",
       "\n",
       "    .dataframe thead th {\n",
       "        text-align: right;\n",
       "    }\n",
       "</style>\n",
       "<table border=\"1\" class=\"dataframe\">\n",
       "  <thead>\n",
       "    <tr style=\"text-align: right;\">\n",
       "      <th></th>\n",
       "      <th>precision</th>\n",
       "      <th>recall</th>\n",
       "      <th>f1-score</th>\n",
       "      <th>support</th>\n",
       "    </tr>\n",
       "  </thead>\n",
       "  <tbody>\n",
       "    <tr>\n",
       "      <th>0</th>\n",
       "      <td>0.985294</td>\n",
       "      <td>0.941011</td>\n",
       "      <td>0.962644</td>\n",
       "      <td>1068.00000</td>\n",
       "    </tr>\n",
       "    <tr>\n",
       "      <th>1</th>\n",
       "      <td>0.231707</td>\n",
       "      <td>0.558824</td>\n",
       "      <td>0.327586</td>\n",
       "      <td>34.00000</td>\n",
       "    </tr>\n",
       "    <tr>\n",
       "      <th>accuracy</th>\n",
       "      <td>0.929220</td>\n",
       "      <td>0.929220</td>\n",
       "      <td>0.929220</td>\n",
       "      <td>0.92922</td>\n",
       "    </tr>\n",
       "    <tr>\n",
       "      <th>macro avg</th>\n",
       "      <td>0.608501</td>\n",
       "      <td>0.749917</td>\n",
       "      <td>0.645115</td>\n",
       "      <td>1102.00000</td>\n",
       "    </tr>\n",
       "    <tr>\n",
       "      <th>weighted avg</th>\n",
       "      <td>0.962044</td>\n",
       "      <td>0.929220</td>\n",
       "      <td>0.943050</td>\n",
       "      <td>1102.00000</td>\n",
       "    </tr>\n",
       "  </tbody>\n",
       "</table>\n",
       "</div>"
      ],
      "text/plain": [
       "              precision    recall  f1-score     support\n",
       "0              0.985294  0.941011  0.962644  1068.00000\n",
       "1              0.231707  0.558824  0.327586    34.00000\n",
       "accuracy       0.929220  0.929220  0.929220     0.92922\n",
       "macro avg      0.608501  0.749917  0.645115  1102.00000\n",
       "weighted avg   0.962044  0.929220  0.943050  1102.00000"
      ]
     },
     "execution_count": 42,
     "metadata": {},
     "output_type": "execute_result"
    }
   ],
   "source": [
    "pd.DataFrame(classification_report(y_test, y_pred, output_dict=True)).T"
   ]
  },
  {
   "cell_type": "code",
   "execution_count": null,
   "id": "8dd31d46",
   "metadata": {},
   "outputs": [],
   "source": []
  },
  {
   "cell_type": "markdown",
   "id": "6e067e08",
   "metadata": {},
   "source": [
    "## 7.3 SVC"
   ]
  },
  {
   "cell_type": "code",
   "execution_count": 43,
   "id": "3143ac8e",
   "metadata": {},
   "outputs": [
    {
     "data": {
      "text/plain": [
       "Pipeline(steps=[('standardscaler', StandardScaler()),\n",
       "                ('svc', SVC(kernel='linear', random_state=0))])"
      ]
     },
     "execution_count": 43,
     "metadata": {},
     "output_type": "execute_result"
    }
   ],
   "source": [
    "svc_pipe = make_pipeline(StandardScaler(), SVC(kernel = 'linear', C = 1.0, random_state = 0))\n",
    "svc_pipe.fit(x_train, y_train)"
   ]
  },
  {
   "cell_type": "code",
   "execution_count": 44,
   "id": "b5f45e8e",
   "metadata": {},
   "outputs": [
    {
     "data": {
      "text/plain": [
       "<AxesSubplot:>"
      ]
     },
     "execution_count": 44,
     "metadata": {},
     "output_type": "execute_result"
    },
    {
     "data": {
      "image/png": "[encoded data removed]",
      "text/plain": [
       "<Figure size 432x288 with 2 Axes>"
      ]
     },
     "metadata": {
      "needs_background": "light"
     },
     "output_type": "display_data"
    }
   ],
   "source": [
    "y_pred_svm= svc_pipe.predict(x_test)\n",
    "cf_matrix = confusion_matrix(y_test, y_pred_svm)\n",
    "sns.heatmap(cf_matrix, annot=True)"
   ]
  },
  {
   "cell_type": "code",
   "execution_count": 45,
   "id": "43b84dc1",
   "metadata": {},
   "outputs": [
    {
     "data": {
      "text/html": [
       "<div>\n",
       "<style scoped>\n",
       "    .dataframe tbody tr th:only-of-type {\n",
       "        vertical-align: middle;\n",
       "    }\n",
       "\n",
       "    .dataframe tbody tr th {\n",
       "        vertical-align: top;\n",
       "    }\n",
       "\n",
       "    .dataframe thead th {\n",
       "        text-align: right;\n",
       "    }\n",
       "</style>\n",
       "<table border=\"1\" class=\"dataframe\">\n",
       "  <thead>\n",
       "    <tr style=\"text-align: right;\">\n",
       "      <th></th>\n",
       "      <th>precision</th>\n",
       "      <th>recall</th>\n",
       "      <th>f1-score</th>\n",
       "      <th>support</th>\n",
       "    </tr>\n",
       "  </thead>\n",
       "  <tbody>\n",
       "    <tr>\n",
       "      <th>0</th>\n",
       "      <td>0.990844</td>\n",
       "      <td>0.911985</td>\n",
       "      <td>0.949781</td>\n",
       "      <td>1068.000000</td>\n",
       "    </tr>\n",
       "    <tr>\n",
       "      <th>1</th>\n",
       "      <td>0.210084</td>\n",
       "      <td>0.735294</td>\n",
       "      <td>0.326797</td>\n",
       "      <td>34.000000</td>\n",
       "    </tr>\n",
       "    <tr>\n",
       "      <th>accuracy</th>\n",
       "      <td>0.906534</td>\n",
       "      <td>0.906534</td>\n",
       "      <td>0.906534</td>\n",
       "      <td>0.906534</td>\n",
       "    </tr>\n",
       "    <tr>\n",
       "      <th>macro avg</th>\n",
       "      <td>0.600464</td>\n",
       "      <td>0.823640</td>\n",
       "      <td>0.638289</td>\n",
       "      <td>1102.000000</td>\n",
       "    </tr>\n",
       "    <tr>\n",
       "      <th>weighted avg</th>\n",
       "      <td>0.966756</td>\n",
       "      <td>0.906534</td>\n",
       "      <td>0.930560</td>\n",
       "      <td>1102.000000</td>\n",
       "    </tr>\n",
       "  </tbody>\n",
       "</table>\n",
       "</div>"
      ],
      "text/plain": [
       "              precision    recall  f1-score      support\n",
       "0              0.990844  0.911985  0.949781  1068.000000\n",
       "1              0.210084  0.735294  0.326797    34.000000\n",
       "accuracy       0.906534  0.906534  0.906534     0.906534\n",
       "macro avg      0.600464  0.823640  0.638289  1102.000000\n",
       "weighted avg   0.966756  0.906534  0.930560  1102.000000"
      ]
     },
     "execution_count": 45,
     "metadata": {},
     "output_type": "execute_result"
    }
   ],
   "source": [
    "pd.DataFrame(classification_report(y_test, y_pred_svm, output_dict=True)).T"
   ]
  },
  {
   "cell_type": "markdown",
   "id": "84a2a4e9",
   "metadata": {},
   "source": [
    "## 7.4 Decision tree classifier"
   ]
  },
  {
   "cell_type": "code",
   "execution_count": 46,
   "id": "0323023e",
   "metadata": {},
   "outputs": [
    {
     "data": {
      "text/plain": [
       "{'criterion': 'entropy', 'max_depth': 11}"
      ]
     },
     "execution_count": 46,
     "metadata": {},
     "output_type": "execute_result"
    }
   ],
   "source": [
    "param_grid = { 'criterion':['gini','entropy'],'max_depth': np.arange(3, 15)}\n",
    "dtree_model=DecisionTreeClassifier()\n",
    "dtree_gscv = GridSearchCV(dtree_model, param_grid, cv=5)\n",
    "dtree_gscv.fit(x_train, y_train)\n",
    "dtree_gscv.best_params_"
   ]
  },
  {
   "cell_type": "code",
   "execution_count": 47,
   "id": "c287da88",
   "metadata": {},
   "outputs": [
    {
     "data": {
      "text/plain": [
       "0.9128856624319419"
      ]
     },
     "execution_count": 47,
     "metadata": {},
     "output_type": "execute_result"
    }
   ],
   "source": [
    "dtree_gscv.score(x_test, y_test)"
   ]
  },
  {
   "cell_type": "code",
   "execution_count": 48,
   "id": "90d69d2a",
   "metadata": {},
   "outputs": [
    {
     "data": {
      "text/plain": [
       "<AxesSubplot:>"
      ]
     },
     "execution_count": 48,
     "metadata": {},
     "output_type": "execute_result"
    },
    {
     "data": {
      "image/png": "[encoded data removed]",
      "text/plain": [
       "<Figure size 432x288 with 2 Axes>"
      ]
     },
     "metadata": {
      "needs_background": "light"
     },
     "output_type": "display_data"
    }
   ],
   "source": [
    "y_pred = dtree_gscv.predict(x_test)\n",
    "cf_matrix = confusion_matrix(y_test, y_pred)\n",
    "sns.heatmap(cf_matrix, annot=True)"
   ]
  },
  {
   "cell_type": "code",
   "execution_count": 49,
   "id": "116833a7",
   "metadata": {
    "scrolled": true
   },
   "outputs": [
    {
     "data": {
      "text/html": [
       "<div>\n",
       "<style scoped>\n",
       "    .dataframe tbody tr th:only-of-type {\n",
       "        vertical-align: middle;\n",
       "    }\n",
       "\n",
       "    .dataframe tbody tr th {\n",
       "        vertical-align: top;\n",
       "    }\n",
       "\n",
       "    .dataframe thead th {\n",
       "        text-align: right;\n",
       "    }\n",
       "</style>\n",
       "<table border=\"1\" class=\"dataframe\">\n",
       "  <thead>\n",
       "    <tr style=\"text-align: right;\">\n",
       "      <th></th>\n",
       "      <th>precision</th>\n",
       "      <th>recall</th>\n",
       "      <th>f1-score</th>\n",
       "      <th>support</th>\n",
       "    </tr>\n",
       "  </thead>\n",
       "  <tbody>\n",
       "    <tr>\n",
       "      <th>0</th>\n",
       "      <td>0.987952</td>\n",
       "      <td>0.921348</td>\n",
       "      <td>0.953488</td>\n",
       "      <td>1068.000000</td>\n",
       "    </tr>\n",
       "    <tr>\n",
       "      <th>1</th>\n",
       "      <td>0.207547</td>\n",
       "      <td>0.647059</td>\n",
       "      <td>0.314286</td>\n",
       "      <td>34.000000</td>\n",
       "    </tr>\n",
       "    <tr>\n",
       "      <th>accuracy</th>\n",
       "      <td>0.912886</td>\n",
       "      <td>0.912886</td>\n",
       "      <td>0.912886</td>\n",
       "      <td>0.912886</td>\n",
       "    </tr>\n",
       "    <tr>\n",
       "      <th>macro avg</th>\n",
       "      <td>0.597749</td>\n",
       "      <td>0.784204</td>\n",
       "      <td>0.633887</td>\n",
       "      <td>1102.000000</td>\n",
       "    </tr>\n",
       "    <tr>\n",
       "      <th>weighted avg</th>\n",
       "      <td>0.963874</td>\n",
       "      <td>0.912886</td>\n",
       "      <td>0.933767</td>\n",
       "      <td>1102.000000</td>\n",
       "    </tr>\n",
       "  </tbody>\n",
       "</table>\n",
       "</div>"
      ],
      "text/plain": [
       "              precision    recall  f1-score      support\n",
       "0              0.987952  0.921348  0.953488  1068.000000\n",
       "1              0.207547  0.647059  0.314286    34.000000\n",
       "accuracy       0.912886  0.912886  0.912886     0.912886\n",
       "macro avg      0.597749  0.784204  0.633887  1102.000000\n",
       "weighted avg   0.963874  0.912886  0.933767  1102.000000"
      ]
     },
     "execution_count": 49,
     "metadata": {},
     "output_type": "execute_result"
    }
   ],
   "source": [
    "pd.DataFrame(classification_report(y_test, y_pred, output_dict=True)).T"
   ]
  },
  {
   "cell_type": "markdown",
   "id": "a4d0036f",
   "metadata": {},
   "source": [
    "## 7.5 Random forest classifer"
   ]
  },
  {
   "cell_type": "code",
   "execution_count": 50,
   "id": "22dd54b4",
   "metadata": {},
   "outputs": [
    {
     "data": {
      "text/plain": [
       "<AxesSubplot:>"
      ]
     },
     "execution_count": 50,
     "metadata": {},
     "output_type": "execute_result"
    },
    {
     "data": {
      "image/png": "[encoded data removed]",
      "text/plain": [
       "<Figure size 432x288 with 2 Axes>"
      ]
     },
     "metadata": {
      "needs_background": "light"
     },
     "output_type": "display_data"
    }
   ],
   "source": [
    "forest = RandomForestClassifier(criterion = 'entropy'\n",
    "                                , n_estimators = 10\n",
    "                                , random_state = 1\n",
    "                                , n_jobs = 1)\n",
    "\n",
    "forest.fit(x_train, y_train)\n",
    "y_pred = forest.predict(x_test)\n",
    "cf_matrix = confusion_matrix(y_test, y_pred)\n",
    "sns.heatmap(cf_matrix, annot=True)"
   ]
  },
  {
   "cell_type": "code",
   "execution_count": 51,
   "id": "7af4de7d",
   "metadata": {},
   "outputs": [
    {
     "data": {
      "text/html": [
       "<div>\n",
       "<style scoped>\n",
       "    .dataframe tbody tr th:only-of-type {\n",
       "        vertical-align: middle;\n",
       "    }\n",
       "\n",
       "    .dataframe tbody tr th {\n",
       "        vertical-align: top;\n",
       "    }\n",
       "\n",
       "    .dataframe thead th {\n",
       "        text-align: right;\n",
       "    }\n",
       "</style>\n",
       "<table border=\"1\" class=\"dataframe\">\n",
       "  <thead>\n",
       "    <tr style=\"text-align: right;\">\n",
       "      <th></th>\n",
       "      <th>precision</th>\n",
       "      <th>recall</th>\n",
       "      <th>f1-score</th>\n",
       "      <th>support</th>\n",
       "    </tr>\n",
       "  </thead>\n",
       "  <tbody>\n",
       "    <tr>\n",
       "      <th>0</th>\n",
       "      <td>0.988281</td>\n",
       "      <td>0.947566</td>\n",
       "      <td>0.967495</td>\n",
       "      <td>1068.000000</td>\n",
       "    </tr>\n",
       "    <tr>\n",
       "      <th>1</th>\n",
       "      <td>0.282051</td>\n",
       "      <td>0.647059</td>\n",
       "      <td>0.392857</td>\n",
       "      <td>34.000000</td>\n",
       "    </tr>\n",
       "    <tr>\n",
       "      <th>accuracy</th>\n",
       "      <td>0.938294</td>\n",
       "      <td>0.938294</td>\n",
       "      <td>0.938294</td>\n",
       "      <td>0.938294</td>\n",
       "    </tr>\n",
       "    <tr>\n",
       "      <th>macro avg</th>\n",
       "      <td>0.635166</td>\n",
       "      <td>0.797312</td>\n",
       "      <td>0.680176</td>\n",
       "      <td>1102.000000</td>\n",
       "    </tr>\n",
       "    <tr>\n",
       "      <th>weighted avg</th>\n",
       "      <td>0.966492</td>\n",
       "      <td>0.938294</td>\n",
       "      <td>0.949766</td>\n",
       "      <td>1102.000000</td>\n",
       "    </tr>\n",
       "  </tbody>\n",
       "</table>\n",
       "</div>"
      ],
      "text/plain": [
       "              precision    recall  f1-score      support\n",
       "0              0.988281  0.947566  0.967495  1068.000000\n",
       "1              0.282051  0.647059  0.392857    34.000000\n",
       "accuracy       0.938294  0.938294  0.938294     0.938294\n",
       "macro avg      0.635166  0.797312  0.680176  1102.000000\n",
       "weighted avg   0.966492  0.938294  0.949766  1102.000000"
      ]
     },
     "execution_count": 51,
     "metadata": {},
     "output_type": "execute_result"
    }
   ],
   "source": [
    "pd.DataFrame(classification_report(y_test, y_pred, output_dict=True)).T"
   ]
  },
  {
   "cell_type": "markdown",
   "id": "4af61425",
   "metadata": {},
   "source": [
    "on remarque que le random forest classifier qui a un recall, f1-score et une presicion maximale mais les resultats restent tres insuffisants et malgré tout les efforts(cross_validation, gridsearchcv, resampling, .. ) pour ameliorer les autres metrics pour la classe minoritaire."
   ]
  },
  {
   "cell_type": "code",
   "execution_count": null,
   "id": "1dbbab40",
   "metadata": {},
   "outputs": [],
   "source": []
  }
 ],
 "metadata": {
  "kernelspec": {
   "display_name": "Python 3 (ipykernel)",
   "language": "python",
   "name": "python3"
  },
  "language_info": {
   "codemirror_mode": {
    "name": "ipython",
    "version": 3
   },
   "file_extension": ".py",
   "mimetype": "text/x-python",
   "name": "python",
   "nbconvert_exporter": "python",
   "pygments_lexer": "ipython3",
   "version": "3.9.7"
  }
 },
 "nbformat": 4,
 "nbformat_minor": 5
}
