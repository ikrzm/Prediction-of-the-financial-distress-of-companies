{
 "cells": [
  {
   "cell_type": "code",
   "execution_count": 1,
   "id": "d1e9efca",
   "metadata": {},
   "outputs": [],
   "source": [
    "import pandas as pd\n",
    "import nltk\n",
    "import seaborn as sns\n",
    "import numpy as np\n",
    "from matplotlib import pyplot as plt\n",
    "from nltk.stem import WordNetLemmatizer\n",
    "from sklearn.feature_extraction.text import TfidfVectorizer\n",
    "from sklearn.model_selection import train_test_split\n",
    "from sklearn.feature_extraction.text import CountVectorizer\n",
    "from sklearn.feature_extraction.text import TfidfTransformer\n",
    "from sklearn.linear_model import LogisticRegression\n",
    "from sklearn.ensemble import RandomForestClassifier\n",
    "from sklearn.svm import LinearSVC\n",
    "import warnings\n",
    "warnings.filterwarnings('ignore')\n"
   ]
  },
  {
   "cell_type": "code",
   "execution_count": 2,
   "id": "dd76c1ae",
   "metadata": {},
   "outputs": [],
   "source": [
    "fd = pd.read_csv(\"TopicModeling_consumer_complains.csv\")"
   ]
  },
  {
   "cell_type": "code",
   "execution_count": 3,
   "id": "e7967e6f",
   "metadata": {},
   "outputs": [
    {
     "data": {
      "text/html": [
       "<div>\n",
       "<style scoped>\n",
       "    .dataframe tbody tr th:only-of-type {\n",
       "        vertical-align: middle;\n",
       "    }\n",
       "\n",
       "    .dataframe tbody tr th {\n",
       "        vertical-align: top;\n",
       "    }\n",
       "\n",
       "    .dataframe thead th {\n",
       "        text-align: right;\n",
       "    }\n",
       "</style>\n",
       "<table border=\"1\" class=\"dataframe\">\n",
       "  <thead>\n",
       "    <tr style=\"text-align: right;\">\n",
       "      <th></th>\n",
       "      <th>Date received</th>\n",
       "      <th>Product</th>\n",
       "      <th>Sub-product</th>\n",
       "      <th>Issue</th>\n",
       "      <th>Sub-issue</th>\n",
       "      <th>Consumer complaint narrative</th>\n",
       "      <th>Company public response</th>\n",
       "      <th>Company</th>\n",
       "      <th>State</th>\n",
       "      <th>ZIP code</th>\n",
       "      <th>Tags</th>\n",
       "      <th>Consumer consent provided?</th>\n",
       "      <th>Submitted via</th>\n",
       "      <th>Date sent to company</th>\n",
       "      <th>Company response to consumer</th>\n",
       "      <th>Timely response?</th>\n",
       "      <th>Consumer disputed?</th>\n",
       "      <th>Complaint ID</th>\n",
       "    </tr>\n",
       "  </thead>\n",
       "  <tbody>\n",
       "    <tr>\n",
       "      <th>0</th>\n",
       "      <td>07/29/2013</td>\n",
       "      <td>Consumer Loan</td>\n",
       "      <td>Vehicle loan</td>\n",
       "      <td>Managing the loan or lease</td>\n",
       "      <td>NaN</td>\n",
       "      <td>NaN</td>\n",
       "      <td>NaN</td>\n",
       "      <td>Wells Fargo &amp; Company</td>\n",
       "      <td>VA</td>\n",
       "      <td>24540</td>\n",
       "      <td>NaN</td>\n",
       "      <td>NaN</td>\n",
       "      <td>Phone</td>\n",
       "      <td>07/30/2013</td>\n",
       "      <td>Closed with explanation</td>\n",
       "      <td>Yes</td>\n",
       "      <td>No</td>\n",
       "      <td>468882</td>\n",
       "    </tr>\n",
       "    <tr>\n",
       "      <th>1</th>\n",
       "      <td>07/29/2013</td>\n",
       "      <td>Bank account or service</td>\n",
       "      <td>Checking account</td>\n",
       "      <td>Using a debit or ATM card</td>\n",
       "      <td>NaN</td>\n",
       "      <td>NaN</td>\n",
       "      <td>NaN</td>\n",
       "      <td>Wells Fargo &amp; Company</td>\n",
       "      <td>CA</td>\n",
       "      <td>95992</td>\n",
       "      <td>Older American</td>\n",
       "      <td>NaN</td>\n",
       "      <td>Web</td>\n",
       "      <td>07/31/2013</td>\n",
       "      <td>Closed with explanation</td>\n",
       "      <td>Yes</td>\n",
       "      <td>No</td>\n",
       "      <td>468889</td>\n",
       "    </tr>\n",
       "    <tr>\n",
       "      <th>2</th>\n",
       "      <td>07/29/2013</td>\n",
       "      <td>Bank account or service</td>\n",
       "      <td>Checking account</td>\n",
       "      <td>Account opening, closing, or management</td>\n",
       "      <td>NaN</td>\n",
       "      <td>NaN</td>\n",
       "      <td>NaN</td>\n",
       "      <td>Santander Bank US</td>\n",
       "      <td>NY</td>\n",
       "      <td>10065</td>\n",
       "      <td>NaN</td>\n",
       "      <td>NaN</td>\n",
       "      <td>Fax</td>\n",
       "      <td>07/31/2013</td>\n",
       "      <td>Closed</td>\n",
       "      <td>Yes</td>\n",
       "      <td>No</td>\n",
       "      <td>468879</td>\n",
       "    </tr>\n",
       "    <tr>\n",
       "      <th>3</th>\n",
       "      <td>07/29/2013</td>\n",
       "      <td>Bank account or service</td>\n",
       "      <td>Checking account</td>\n",
       "      <td>Deposits and withdrawals</td>\n",
       "      <td>NaN</td>\n",
       "      <td>NaN</td>\n",
       "      <td>NaN</td>\n",
       "      <td>Wells Fargo &amp; Company</td>\n",
       "      <td>GA</td>\n",
       "      <td>30084</td>\n",
       "      <td>NaN</td>\n",
       "      <td>NaN</td>\n",
       "      <td>Web</td>\n",
       "      <td>07/30/2013</td>\n",
       "      <td>Closed with explanation</td>\n",
       "      <td>Yes</td>\n",
       "      <td>No</td>\n",
       "      <td>468949</td>\n",
       "    </tr>\n",
       "    <tr>\n",
       "      <th>4</th>\n",
       "      <td>07/29/2013</td>\n",
       "      <td>Mortgage</td>\n",
       "      <td>Conventional fixed mortgage</td>\n",
       "      <td>Loan servicing, payments, escrow account</td>\n",
       "      <td>NaN</td>\n",
       "      <td>NaN</td>\n",
       "      <td>NaN</td>\n",
       "      <td>Franklin Credit Management</td>\n",
       "      <td>CT</td>\n",
       "      <td>06106</td>\n",
       "      <td>NaN</td>\n",
       "      <td>NaN</td>\n",
       "      <td>Web</td>\n",
       "      <td>07/30/2013</td>\n",
       "      <td>Closed with explanation</td>\n",
       "      <td>Yes</td>\n",
       "      <td>No</td>\n",
       "      <td>475823</td>\n",
       "    </tr>\n",
       "  </tbody>\n",
       "</table>\n",
       "</div>"
      ],
      "text/plain": [
       "  Date received                  Product                  Sub-product  \\\n",
       "0    07/29/2013            Consumer Loan                 Vehicle loan   \n",
       "1    07/29/2013  Bank account or service             Checking account   \n",
       "2    07/29/2013  Bank account or service             Checking account   \n",
       "3    07/29/2013  Bank account or service             Checking account   \n",
       "4    07/29/2013                 Mortgage  Conventional fixed mortgage   \n",
       "\n",
       "                                      Issue Sub-issue  \\\n",
       "0                Managing the loan or lease       NaN   \n",
       "1                 Using a debit or ATM card       NaN   \n",
       "2   Account opening, closing, or management       NaN   \n",
       "3                  Deposits and withdrawals       NaN   \n",
       "4  Loan servicing, payments, escrow account       NaN   \n",
       "\n",
       "  Consumer complaint narrative Company public response  \\\n",
       "0                          NaN                     NaN   \n",
       "1                          NaN                     NaN   \n",
       "2                          NaN                     NaN   \n",
       "3                          NaN                     NaN   \n",
       "4                          NaN                     NaN   \n",
       "\n",
       "                      Company State ZIP code            Tags  \\\n",
       "0       Wells Fargo & Company    VA    24540             NaN   \n",
       "1       Wells Fargo & Company    CA    95992  Older American   \n",
       "2           Santander Bank US    NY    10065             NaN   \n",
       "3       Wells Fargo & Company    GA    30084             NaN   \n",
       "4  Franklin Credit Management    CT    06106             NaN   \n",
       "\n",
       "  Consumer consent provided? Submitted via Date sent to company  \\\n",
       "0                        NaN         Phone           07/30/2013   \n",
       "1                        NaN           Web           07/31/2013   \n",
       "2                        NaN           Fax           07/31/2013   \n",
       "3                        NaN           Web           07/30/2013   \n",
       "4                        NaN           Web           07/30/2013   \n",
       "\n",
       "  Company response to consumer Timely response? Consumer disputed?  \\\n",
       "0      Closed with explanation              Yes                 No   \n",
       "1      Closed with explanation              Yes                 No   \n",
       "2                       Closed              Yes                 No   \n",
       "3      Closed with explanation              Yes                 No   \n",
       "4      Closed with explanation              Yes                 No   \n",
       "\n",
       "   Complaint ID  \n",
       "0        468882  \n",
       "1        468889  \n",
       "2        468879  \n",
       "3        468949  \n",
       "4        475823  "
      ]
     },
     "execution_count": 3,
     "metadata": {},
     "output_type": "execute_result"
    }
   ],
   "source": [
    "fd.head()"
   ]
  },
  {
   "cell_type": "code",
   "execution_count": 4,
   "id": "3b7caa31",
   "metadata": {},
   "outputs": [
    {
     "data": {
      "text/plain": [
       "Index(['Date received', 'Product', 'Sub-product', 'Issue', 'Sub-issue',\n",
       "       'Consumer complaint narrative', 'Company public response', 'Company',\n",
       "       'State', 'ZIP code', 'Tags', 'Consumer consent provided?',\n",
       "       'Submitted via', 'Date sent to company', 'Company response to consumer',\n",
       "       'Timely response?', 'Consumer disputed?', 'Complaint ID'],\n",
       "      dtype='object')"
      ]
     },
     "execution_count": 4,
     "metadata": {},
     "output_type": "execute_result"
    }
   ],
   "source": [
    "fd.columns"
   ]
  },
  {
   "cell_type": "code",
   "execution_count": 5,
   "id": "a27de217",
   "metadata": {},
   "outputs": [
    {
     "data": {
      "text/plain": [
       "(670598, 18)"
      ]
     },
     "execution_count": 5,
     "metadata": {},
     "output_type": "execute_result"
    }
   ],
   "source": [
    "fd.shape"
   ]
  },
  {
   "cell_type": "code",
   "execution_count": 6,
   "id": "6b044e27",
   "metadata": {},
   "outputs": [
    {
     "name": "stdout",
     "output_type": "stream",
     "text": [
      "<class 'pandas.core.frame.DataFrame'>\n",
      "RangeIndex: 670598 entries, 0 to 670597\n",
      "Data columns (total 18 columns):\n",
      " #   Column                        Non-Null Count   Dtype \n",
      "---  ------                        --------------   ----- \n",
      " 0   Date received                 670598 non-null  object\n",
      " 1   Product                       670598 non-null  object\n",
      " 2   Sub-product                   472396 non-null  object\n",
      " 3   Issue                         670598 non-null  object\n",
      " 4   Sub-issue                     269868 non-null  object\n",
      " 5   Consumer complaint narrative  114704 non-null  object\n",
      " 6   Company public response       145197 non-null  object\n",
      " 7   Company                       670598 non-null  object\n",
      " 8   State                         665293 non-null  object\n",
      " 9   ZIP code                      665274 non-null  object\n",
      " 10  Tags                          94730 non-null   object\n",
      " 11  Consumer consent provided?    208151 non-null  object\n",
      " 12  Submitted via                 670598 non-null  object\n",
      " 13  Date sent to company          670598 non-null  object\n",
      " 14  Company response to consumer  670598 non-null  object\n",
      " 15  Timely response?              670598 non-null  object\n",
      " 16  Consumer disputed?            629179 non-null  object\n",
      " 17  Complaint ID                  670598 non-null  int64 \n",
      "dtypes: int64(1), object(17)\n",
      "memory usage: 92.1+ MB\n"
     ]
    }
   ],
   "source": [
    "fd.info()"
   ]
  },
  {
   "cell_type": "markdown",
   "id": "9e8af669",
   "metadata": {},
   "source": [
    "la plupart des variables sont des objets"
   ]
  },
  {
   "cell_type": "code",
   "execution_count": 7,
   "id": "ab000fc7",
   "metadata": {},
   "outputs": [
    {
     "data": {
      "text/plain": [
       "Date received                   0.000000\n",
       "Product                         0.000000\n",
       "Sub-product                     0.295560\n",
       "Issue                           0.000000\n",
       "Sub-issue                       0.597571\n",
       "Consumer complaint narrative    0.828953\n",
       "Company public response         0.783481\n",
       "Company                         0.000000\n",
       "State                           0.007911\n",
       "ZIP code                        0.007939\n",
       "Tags                            0.858738\n",
       "Consumer consent provided?      0.689604\n",
       "Submitted via                   0.000000\n",
       "Date sent to company            0.000000\n",
       "Company response to consumer    0.000000\n",
       "Timely response?                0.000000\n",
       "Consumer disputed?              0.061764\n",
       "Complaint ID                    0.000000\n",
       "dtype: float64"
      ]
     },
     "execution_count": 7,
     "metadata": {},
     "output_type": "execute_result"
    }
   ],
   "source": [
    "fd.isnull().sum() / fd.shape[0]"
   ]
  },
  {
   "cell_type": "markdown",
   "id": "b123aca9",
   "metadata": {},
   "source": [
    "on reamrque qu'il ya plusieurs valeurs nulles avec des pourcentages trés élevés, mais dans ce cas on va utiliser que les deux colonnes product et Consumer complaint narrative"
   ]
  },
  {
   "cell_type": "code",
   "execution_count": 8,
   "id": "f7c0ff06",
   "metadata": {},
   "outputs": [],
   "source": [
    "new=[\"Consumer complaint narrative\",\"Product\"]\n",
    "new_df = fd[new]"
   ]
  },
  {
   "cell_type": "code",
   "execution_count": 9,
   "id": "32a172be",
   "metadata": {},
   "outputs": [
    {
     "data": {
      "text/html": [
       "<div>\n",
       "<style scoped>\n",
       "    .dataframe tbody tr th:only-of-type {\n",
       "        vertical-align: middle;\n",
       "    }\n",
       "\n",
       "    .dataframe tbody tr th {\n",
       "        vertical-align: top;\n",
       "    }\n",
       "\n",
       "    .dataframe thead th {\n",
       "        text-align: right;\n",
       "    }\n",
       "</style>\n",
       "<table border=\"1\" class=\"dataframe\">\n",
       "  <thead>\n",
       "    <tr style=\"text-align: right;\">\n",
       "      <th></th>\n",
       "      <th>Consumer complaint narrative</th>\n",
       "      <th>Product</th>\n",
       "    </tr>\n",
       "  </thead>\n",
       "  <tbody>\n",
       "    <tr>\n",
       "      <th>0</th>\n",
       "      <td>NaN</td>\n",
       "      <td>Consumer Loan</td>\n",
       "    </tr>\n",
       "    <tr>\n",
       "      <th>1</th>\n",
       "      <td>NaN</td>\n",
       "      <td>Bank account or service</td>\n",
       "    </tr>\n",
       "    <tr>\n",
       "      <th>2</th>\n",
       "      <td>NaN</td>\n",
       "      <td>Bank account or service</td>\n",
       "    </tr>\n",
       "    <tr>\n",
       "      <th>3</th>\n",
       "      <td>NaN</td>\n",
       "      <td>Bank account or service</td>\n",
       "    </tr>\n",
       "    <tr>\n",
       "      <th>4</th>\n",
       "      <td>NaN</td>\n",
       "      <td>Mortgage</td>\n",
       "    </tr>\n",
       "  </tbody>\n",
       "</table>\n",
       "</div>"
      ],
      "text/plain": [
       "  Consumer complaint narrative                  Product\n",
       "0                          NaN            Consumer Loan\n",
       "1                          NaN  Bank account or service\n",
       "2                          NaN  Bank account or service\n",
       "3                          NaN  Bank account or service\n",
       "4                          NaN                 Mortgage"
      ]
     },
     "execution_count": 9,
     "metadata": {},
     "output_type": "execute_result"
    }
   ],
   "source": [
    "new_df.head()"
   ]
  },
  {
   "cell_type": "code",
   "execution_count": 10,
   "id": "6f4daf03",
   "metadata": {},
   "outputs": [
    {
     "data": {
      "text/html": [
       "<div>\n",
       "<style scoped>\n",
       "    .dataframe tbody tr th:only-of-type {\n",
       "        vertical-align: middle;\n",
       "    }\n",
       "\n",
       "    .dataframe tbody tr th {\n",
       "        vertical-align: top;\n",
       "    }\n",
       "\n",
       "    .dataframe thead th {\n",
       "        text-align: right;\n",
       "    }\n",
       "</style>\n",
       "<table border=\"1\" class=\"dataframe\">\n",
       "  <thead>\n",
       "    <tr style=\"text-align: right;\">\n",
       "      <th></th>\n",
       "      <th>Consumer complaint narrative</th>\n",
       "      <th>Product</th>\n",
       "    </tr>\n",
       "  </thead>\n",
       "  <tbody>\n",
       "    <tr>\n",
       "      <th>count</th>\n",
       "      <td>114704</td>\n",
       "      <td>670598</td>\n",
       "    </tr>\n",
       "    <tr>\n",
       "      <th>unique</th>\n",
       "      <td>112690</td>\n",
       "      <td>12</td>\n",
       "    </tr>\n",
       "    <tr>\n",
       "      <th>top</th>\n",
       "      <td>I am filing this complaint because Experian ha...</td>\n",
       "      <td>Mortgage</td>\n",
       "    </tr>\n",
       "    <tr>\n",
       "      <th>freq</th>\n",
       "      <td>102</td>\n",
       "      <td>210324</td>\n",
       "    </tr>\n",
       "  </tbody>\n",
       "</table>\n",
       "</div>"
      ],
      "text/plain": [
       "                             Consumer complaint narrative   Product\n",
       "count                                              114704    670598\n",
       "unique                                             112690        12\n",
       "top     I am filing this complaint because Experian ha...  Mortgage\n",
       "freq                                                  102    210324"
      ]
     },
     "execution_count": 10,
     "metadata": {},
     "output_type": "execute_result"
    }
   ],
   "source": [
    "new_df.describe()"
   ]
  },
  {
   "cell_type": "markdown",
   "id": "e5818344",
   "metadata": {},
   "source": [
    "pour la colonnes Consumer complaint narrative, il ya 82 % de valeurs nullees et il ya plusieurs lignes qui se repetent , donc on vas supprimer les lignes correspondantes"
   ]
  },
  {
   "cell_type": "code",
   "execution_count": 11,
   "id": "3c9ecd66",
   "metadata": {},
   "outputs": [],
   "source": [
    "new_df = new_df.dropna(axis = 0)\n",
    "new_df = new_df.drop_duplicates()"
   ]
  },
  {
   "cell_type": "code",
   "execution_count": 12,
   "id": "771c2aa9",
   "metadata": {},
   "outputs": [
    {
     "data": {
      "text/html": [
       "<div>\n",
       "<style scoped>\n",
       "    .dataframe tbody tr th:only-of-type {\n",
       "        vertical-align: middle;\n",
       "    }\n",
       "\n",
       "    .dataframe tbody tr th {\n",
       "        vertical-align: top;\n",
       "    }\n",
       "\n",
       "    .dataframe thead th {\n",
       "        text-align: right;\n",
       "    }\n",
       "</style>\n",
       "<table border=\"1\" class=\"dataframe\">\n",
       "  <thead>\n",
       "    <tr style=\"text-align: right;\">\n",
       "      <th></th>\n",
       "      <th>Consumer complaint narrative</th>\n",
       "      <th>Product</th>\n",
       "    </tr>\n",
       "  </thead>\n",
       "  <tbody>\n",
       "    <tr>\n",
       "      <th>57729</th>\n",
       "      <td>Received Capital One charge card offer XXXX. A...</td>\n",
       "      <td>Credit card</td>\n",
       "    </tr>\n",
       "    <tr>\n",
       "      <th>57787</th>\n",
       "      <td>I do n't know how they got my cell number. I t...</td>\n",
       "      <td>Debt collection</td>\n",
       "    </tr>\n",
       "    <tr>\n",
       "      <th>57838</th>\n",
       "      <td>I 'm a longtime member of Charter One Bank/RBS...</td>\n",
       "      <td>Credit card</td>\n",
       "    </tr>\n",
       "    <tr>\n",
       "      <th>57848</th>\n",
       "      <td>After looking at my credit report, I saw a col...</td>\n",
       "      <td>Credit reporting</td>\n",
       "    </tr>\n",
       "    <tr>\n",
       "      <th>57852</th>\n",
       "      <td>I received a call from a XXXX XXXX from XXXX @...</td>\n",
       "      <td>Debt collection</td>\n",
       "    </tr>\n",
       "  </tbody>\n",
       "</table>\n",
       "</div>"
      ],
      "text/plain": [
       "                            Consumer complaint narrative           Product\n",
       "57729  Received Capital One charge card offer XXXX. A...       Credit card\n",
       "57787  I do n't know how they got my cell number. I t...   Debt collection\n",
       "57838  I 'm a longtime member of Charter One Bank/RBS...       Credit card\n",
       "57848  After looking at my credit report, I saw a col...  Credit reporting\n",
       "57852  I received a call from a XXXX XXXX from XXXX @...   Debt collection"
      ]
     },
     "execution_count": 12,
     "metadata": {},
     "output_type": "execute_result"
    }
   ],
   "source": [
    "new_df.head()"
   ]
  },
  {
   "cell_type": "code",
   "execution_count": 13,
   "id": "c14e61ae",
   "metadata": {},
   "outputs": [
    {
     "name": "stdout",
     "output_type": "stream",
     "text": [
      "<class 'pandas.core.frame.DataFrame'>\n",
      "Int64Index: 112726 entries, 57729 to 670596\n",
      "Data columns (total 2 columns):\n",
      " #   Column                        Non-Null Count   Dtype \n",
      "---  ------                        --------------   ----- \n",
      " 0   Consumer complaint narrative  112726 non-null  object\n",
      " 1   Product                       112726 non-null  object\n",
      "dtypes: object(2)\n",
      "memory usage: 2.6+ MB\n"
     ]
    }
   ],
   "source": [
    "new_df.info()"
   ]
  },
  {
   "cell_type": "markdown",
   "id": "56c05e96",
   "metadata": {},
   "source": [
    "on va changer le type du Product en categorie puis attribuer à chaque ligne un id en fonction du categorie du produit"
   ]
  },
  {
   "cell_type": "code",
   "execution_count": 14,
   "id": "bf96ef72",
   "metadata": {},
   "outputs": [],
   "source": [
    "new_df['Product'] = new_df['Product'].astype('category')\n",
    "new_df[\"Id\"] = new_df['Product'].cat.codes"
   ]
  },
  {
   "cell_type": "code",
   "execution_count": 15,
   "id": "edb8255d",
   "metadata": {},
   "outputs": [
    {
     "data": {
      "text/html": [
       "<div>\n",
       "<style scoped>\n",
       "    .dataframe tbody tr th:only-of-type {\n",
       "        vertical-align: middle;\n",
       "    }\n",
       "\n",
       "    .dataframe tbody tr th {\n",
       "        vertical-align: top;\n",
       "    }\n",
       "\n",
       "    .dataframe thead th {\n",
       "        text-align: right;\n",
       "    }\n",
       "</style>\n",
       "<table border=\"1\" class=\"dataframe\">\n",
       "  <thead>\n",
       "    <tr style=\"text-align: right;\">\n",
       "      <th></th>\n",
       "      <th>Consumer complaint narrative</th>\n",
       "      <th>Product</th>\n",
       "      <th>Id</th>\n",
       "    </tr>\n",
       "  </thead>\n",
       "  <tbody>\n",
       "    <tr>\n",
       "      <th>57729</th>\n",
       "      <td>Received Capital One charge card offer XXXX. A...</td>\n",
       "      <td>Credit card</td>\n",
       "      <td>2</td>\n",
       "    </tr>\n",
       "    <tr>\n",
       "      <th>57787</th>\n",
       "      <td>I do n't know how they got my cell number. I t...</td>\n",
       "      <td>Debt collection</td>\n",
       "      <td>4</td>\n",
       "    </tr>\n",
       "    <tr>\n",
       "      <th>57838</th>\n",
       "      <td>I 'm a longtime member of Charter One Bank/RBS...</td>\n",
       "      <td>Credit card</td>\n",
       "      <td>2</td>\n",
       "    </tr>\n",
       "    <tr>\n",
       "      <th>57848</th>\n",
       "      <td>After looking at my credit report, I saw a col...</td>\n",
       "      <td>Credit reporting</td>\n",
       "      <td>3</td>\n",
       "    </tr>\n",
       "    <tr>\n",
       "      <th>57852</th>\n",
       "      <td>I received a call from a XXXX XXXX from XXXX @...</td>\n",
       "      <td>Debt collection</td>\n",
       "      <td>4</td>\n",
       "    </tr>\n",
       "  </tbody>\n",
       "</table>\n",
       "</div>"
      ],
      "text/plain": [
       "                            Consumer complaint narrative           Product  Id\n",
       "57729  Received Capital One charge card offer XXXX. A...       Credit card   2\n",
       "57787  I do n't know how they got my cell number. I t...   Debt collection   4\n",
       "57838  I 'm a longtime member of Charter One Bank/RBS...       Credit card   2\n",
       "57848  After looking at my credit report, I saw a col...  Credit reporting   3\n",
       "57852  I received a call from a XXXX XXXX from XXXX @...   Debt collection   4"
      ]
     },
     "execution_count": 15,
     "metadata": {},
     "output_type": "execute_result"
    }
   ],
   "source": [
    "new_df.head()"
   ]
  },
  {
   "cell_type": "code",
   "execution_count": 16,
   "id": "e3b4021d",
   "metadata": {},
   "outputs": [
    {
     "data": {
      "text/plain": [
       "<AxesSubplot:xlabel='count', ylabel='Product'>"
      ]
     },
     "execution_count": 16,
     "metadata": {},
     "output_type": "execute_result"
    },
    {
     "data": {
      "image/png": "[encoded data removed]",
      "text/plain": [
       "<Figure size 864x576 with 1 Axes>"
      ]
     },
     "metadata": {
      "needs_background": "light"
     },
     "output_type": "display_data"
    }
   ],
   "source": [
    "plt.figure(figsize=(12, 8))\n",
    "sns.countplot(y = 'Product', data = new_df)"
   ]
  },
  {
   "cell_type": "markdown",
   "id": "6d18d80c",
   "metadata": {},
   "source": [
    "on reamrque qu' il y a plus de complaints consernant le debt collection et le Mortage et le credit reporting"
   ]
  },
  {
   "cell_type": "code",
   "execution_count": 17,
   "id": "a87a5916",
   "metadata": {},
   "outputs": [
    {
     "data": {
      "text/plain": [
       "['Debt collection',\n",
       " 'Mortgage',\n",
       " 'Credit reporting',\n",
       " 'Credit card',\n",
       " 'Bank account or service',\n",
       " 'Consumer Loan',\n",
       " 'Student loan',\n",
       " 'Payday loan',\n",
       " 'Prepaid card',\n",
       " 'Money transfers',\n",
       " 'Other financial service',\n",
       " 'Virtual currency']"
      ]
     },
     "execution_count": 17,
     "metadata": {},
     "output_type": "execute_result"
    }
   ],
   "source": [
    "products_categories = new_df['Product'].value_counts().index.tolist()\n",
    "products_categories"
   ]
  },
  {
   "cell_type": "code",
   "execution_count": 18,
   "id": "6435f3bd",
   "metadata": {},
   "outputs": [
    {
     "data": {
      "text/html": [
       "<div>\n",
       "<style scoped>\n",
       "    .dataframe tbody tr th:only-of-type {\n",
       "        vertical-align: middle;\n",
       "    }\n",
       "\n",
       "    .dataframe tbody tr th {\n",
       "        vertical-align: top;\n",
       "    }\n",
       "\n",
       "    .dataframe thead th {\n",
       "        text-align: right;\n",
       "    }\n",
       "</style>\n",
       "<table border=\"1\" class=\"dataframe\">\n",
       "  <thead>\n",
       "    <tr style=\"text-align: right;\">\n",
       "      <th></th>\n",
       "      <th>Consumer complaint narrative</th>\n",
       "      <th>Product</th>\n",
       "      <th>Id</th>\n",
       "      <th>text_len</th>\n",
       "    </tr>\n",
       "  </thead>\n",
       "  <tbody>\n",
       "    <tr>\n",
       "      <th>57729</th>\n",
       "      <td>Received Capital One charge card offer XXXX. A...</td>\n",
       "      <td>Credit card</td>\n",
       "      <td>2</td>\n",
       "      <td>3875</td>\n",
       "    </tr>\n",
       "    <tr>\n",
       "      <th>57787</th>\n",
       "      <td>I do n't know how they got my cell number. I t...</td>\n",
       "      <td>Debt collection</td>\n",
       "      <td>4</td>\n",
       "      <td>282</td>\n",
       "    </tr>\n",
       "    <tr>\n",
       "      <th>57838</th>\n",
       "      <td>I 'm a longtime member of Charter One Bank/RBS...</td>\n",
       "      <td>Credit card</td>\n",
       "      <td>2</td>\n",
       "      <td>3678</td>\n",
       "    </tr>\n",
       "    <tr>\n",
       "      <th>57848</th>\n",
       "      <td>After looking at my credit report, I saw a col...</td>\n",
       "      <td>Credit reporting</td>\n",
       "      <td>3</td>\n",
       "      <td>472</td>\n",
       "    </tr>\n",
       "    <tr>\n",
       "      <th>57852</th>\n",
       "      <td>I received a call from a XXXX XXXX from XXXX @...</td>\n",
       "      <td>Debt collection</td>\n",
       "      <td>4</td>\n",
       "      <td>656</td>\n",
       "    </tr>\n",
       "  </tbody>\n",
       "</table>\n",
       "</div>"
      ],
      "text/plain": [
       "                            Consumer complaint narrative           Product  \\\n",
       "57729  Received Capital One charge card offer XXXX. A...       Credit card   \n",
       "57787  I do n't know how they got my cell number. I t...   Debt collection   \n",
       "57838  I 'm a longtime member of Charter One Bank/RBS...       Credit card   \n",
       "57848  After looking at my credit report, I saw a col...  Credit reporting   \n",
       "57852  I received a call from a XXXX XXXX from XXXX @...   Debt collection   \n",
       "\n",
       "       Id  text_len  \n",
       "57729   2      3875  \n",
       "57787   4       282  \n",
       "57838   2      3678  \n",
       "57848   3       472  \n",
       "57852   4       656  "
      ]
     },
     "execution_count": 18,
     "metadata": {},
     "output_type": "execute_result"
    }
   ],
   "source": [
    "new_df['text_len'] = new_df[\"Consumer complaint narrative\"].apply(len)\n",
    "new_df.head()"
   ]
  },
  {
   "cell_type": "code",
   "execution_count": 19,
   "id": "2568dfc0",
   "metadata": {},
   "outputs": [
    {
     "data": {
      "text/plain": [
       "<matplotlib.legend.Legend at 0x1cd8b7f51c0>"
      ]
     },
     "execution_count": 19,
     "metadata": {},
     "output_type": "execute_result"
    },
    {
     "data": {
      "image/png": "[encoded data removed]",
      "text/plain": [
       "<Figure size 864x576 with 1 Axes>"
      ]
     },
     "metadata": {
      "needs_background": "light"
     },
     "output_type": "display_data"
    }
   ],
   "source": [
    "plt.figure(figsize=(12, 8))\n",
    "\n",
    "color = iter(plt.cm.rainbow(np.linspace(0, 1, 12)))\n",
    "for x in products_categories :\n",
    "    c = next(color)\n",
    "    new_df[new_df.Product==x].text_len.plot(bins=35, kind='hist', color=c, \n",
    "                                       label=x, alpha=0.6)\n",
    "plt.legend()\n"
   ]
  },
  {
   "cell_type": "markdown",
   "id": "20ed1d9c",
   "metadata": {},
   "source": [
    "   on remarque que les plaintes qui consernent le debt collection le Mortagage et le Credit repoting ont tendance à etre longues"
   ]
  },
  {
   "cell_type": "code",
   "execution_count": 20,
   "id": "600274f0",
   "metadata": {},
   "outputs": [
    {
     "data": {
      "text/html": [
       "<div>\n",
       "<style scoped>\n",
       "    .dataframe tbody tr th:only-of-type {\n",
       "        vertical-align: middle;\n",
       "    }\n",
       "\n",
       "    .dataframe tbody tr th {\n",
       "        vertical-align: top;\n",
       "    }\n",
       "\n",
       "    .dataframe thead th {\n",
       "        text-align: right;\n",
       "    }\n",
       "</style>\n",
       "<table border=\"1\" class=\"dataframe\">\n",
       "  <thead>\n",
       "    <tr style=\"text-align: right;\">\n",
       "      <th></th>\n",
       "      <th>Id</th>\n",
       "      <th>text_len</th>\n",
       "    </tr>\n",
       "  </thead>\n",
       "  <tbody>\n",
       "    <tr>\n",
       "      <th>count</th>\n",
       "      <td>28181.0</td>\n",
       "      <td>28181.000000</td>\n",
       "    </tr>\n",
       "    <tr>\n",
       "      <th>mean</th>\n",
       "      <td>4.0</td>\n",
       "      <td>813.545580</td>\n",
       "    </tr>\n",
       "    <tr>\n",
       "      <th>std</th>\n",
       "      <td>0.0</td>\n",
       "      <td>759.327598</td>\n",
       "    </tr>\n",
       "    <tr>\n",
       "      <th>min</th>\n",
       "      <td>4.0</td>\n",
       "      <td>10.000000</td>\n",
       "    </tr>\n",
       "    <tr>\n",
       "      <th>25%</th>\n",
       "      <td>4.0</td>\n",
       "      <td>306.000000</td>\n",
       "    </tr>\n",
       "    <tr>\n",
       "      <th>50%</th>\n",
       "      <td>4.0</td>\n",
       "      <td>563.000000</td>\n",
       "    </tr>\n",
       "    <tr>\n",
       "      <th>75%</th>\n",
       "      <td>4.0</td>\n",
       "      <td>1037.000000</td>\n",
       "    </tr>\n",
       "    <tr>\n",
       "      <th>max</th>\n",
       "      <td>4.0</td>\n",
       "      <td>4033.000000</td>\n",
       "    </tr>\n",
       "  </tbody>\n",
       "</table>\n",
       "</div>"
      ],
      "text/plain": [
       "            Id      text_len\n",
       "count  28181.0  28181.000000\n",
       "mean       4.0    813.545580\n",
       "std        0.0    759.327598\n",
       "min        4.0     10.000000\n",
       "25%        4.0    306.000000\n",
       "50%        4.0    563.000000\n",
       "75%        4.0   1037.000000\n",
       "max        4.0   4033.000000"
      ]
     },
     "execution_count": 20,
     "metadata": {},
     "output_type": "execute_result"
    }
   ],
   "source": [
    "new_df[new_df[\"Product\"]=='Debt collection'].describe()"
   ]
  },
  {
   "cell_type": "code",
   "execution_count": 21,
   "id": "0fb1fa42",
   "metadata": {},
   "outputs": [
    {
     "data": {
      "text/html": [
       "<div>\n",
       "<style scoped>\n",
       "    .dataframe tbody tr th:only-of-type {\n",
       "        vertical-align: middle;\n",
       "    }\n",
       "\n",
       "    .dataframe tbody tr th {\n",
       "        vertical-align: top;\n",
       "    }\n",
       "\n",
       "    .dataframe thead th {\n",
       "        text-align: right;\n",
       "    }\n",
       "</style>\n",
       "<table border=\"1\" class=\"dataframe\">\n",
       "  <thead>\n",
       "    <tr style=\"text-align: right;\">\n",
       "      <th></th>\n",
       "      <th>Id</th>\n",
       "      <th>text_len</th>\n",
       "    </tr>\n",
       "  </thead>\n",
       "  <tbody>\n",
       "    <tr>\n",
       "      <th>count</th>\n",
       "      <td>24627.0</td>\n",
       "      <td>24627.000000</td>\n",
       "    </tr>\n",
       "    <tr>\n",
       "      <th>mean</th>\n",
       "      <td>6.0</td>\n",
       "      <td>1446.069964</td>\n",
       "    </tr>\n",
       "    <tr>\n",
       "      <th>std</th>\n",
       "      <td>0.0</td>\n",
       "      <td>1058.058114</td>\n",
       "    </tr>\n",
       "    <tr>\n",
       "      <th>min</th>\n",
       "      <td>6.0</td>\n",
       "      <td>15.000000</td>\n",
       "    </tr>\n",
       "    <tr>\n",
       "      <th>25%</th>\n",
       "      <td>6.0</td>\n",
       "      <td>615.000000</td>\n",
       "    </tr>\n",
       "    <tr>\n",
       "      <th>50%</th>\n",
       "      <td>6.0</td>\n",
       "      <td>1122.000000</td>\n",
       "    </tr>\n",
       "    <tr>\n",
       "      <th>75%</th>\n",
       "      <td>6.0</td>\n",
       "      <td>2029.500000</td>\n",
       "    </tr>\n",
       "    <tr>\n",
       "      <th>max</th>\n",
       "      <td>6.0</td>\n",
       "      <td>4364.000000</td>\n",
       "    </tr>\n",
       "  </tbody>\n",
       "</table>\n",
       "</div>"
      ],
      "text/plain": [
       "            Id      text_len\n",
       "count  24627.0  24627.000000\n",
       "mean       6.0   1446.069964\n",
       "std        0.0   1058.058114\n",
       "min        6.0     15.000000\n",
       "25%        6.0    615.000000\n",
       "50%        6.0   1122.000000\n",
       "75%        6.0   2029.500000\n",
       "max        6.0   4364.000000"
      ]
     },
     "execution_count": 21,
     "metadata": {},
     "output_type": "execute_result"
    }
   ],
   "source": [
    "new_df[new_df[\"Product\"]=='Mortgage'].describe()"
   ]
  },
  {
   "cell_type": "code",
   "execution_count": 22,
   "id": "213affc3",
   "metadata": {},
   "outputs": [
    {
     "data": {
      "text/html": [
       "<div>\n",
       "<style scoped>\n",
       "    .dataframe tbody tr th:only-of-type {\n",
       "        vertical-align: middle;\n",
       "    }\n",
       "\n",
       "    .dataframe tbody tr th {\n",
       "        vertical-align: top;\n",
       "    }\n",
       "\n",
       "    .dataframe thead th {\n",
       "        text-align: right;\n",
       "    }\n",
       "</style>\n",
       "<table border=\"1\" class=\"dataframe\">\n",
       "  <thead>\n",
       "    <tr style=\"text-align: right;\">\n",
       "      <th></th>\n",
       "      <th>Id</th>\n",
       "      <th>text_len</th>\n",
       "    </tr>\n",
       "  </thead>\n",
       "  <tbody>\n",
       "    <tr>\n",
       "      <th>count</th>\n",
       "      <td>21008.0</td>\n",
       "      <td>21008.000000</td>\n",
       "    </tr>\n",
       "    <tr>\n",
       "      <th>mean</th>\n",
       "      <td>3.0</td>\n",
       "      <td>763.608102</td>\n",
       "    </tr>\n",
       "    <tr>\n",
       "      <th>std</th>\n",
       "      <td>0.0</td>\n",
       "      <td>741.535312</td>\n",
       "    </tr>\n",
       "    <tr>\n",
       "      <th>min</th>\n",
       "      <td>3.0</td>\n",
       "      <td>13.000000</td>\n",
       "    </tr>\n",
       "    <tr>\n",
       "      <th>25%</th>\n",
       "      <td>3.0</td>\n",
       "      <td>276.000000</td>\n",
       "    </tr>\n",
       "    <tr>\n",
       "      <th>50%</th>\n",
       "      <td>3.0</td>\n",
       "      <td>515.000000</td>\n",
       "    </tr>\n",
       "    <tr>\n",
       "      <th>75%</th>\n",
       "      <td>3.0</td>\n",
       "      <td>973.000000</td>\n",
       "    </tr>\n",
       "    <tr>\n",
       "      <th>max</th>\n",
       "      <td>3.0</td>\n",
       "      <td>4039.000000</td>\n",
       "    </tr>\n",
       "  </tbody>\n",
       "</table>\n",
       "</div>"
      ],
      "text/plain": [
       "            Id      text_len\n",
       "count  21008.0  21008.000000\n",
       "mean       3.0    763.608102\n",
       "std        0.0    741.535312\n",
       "min        3.0     13.000000\n",
       "25%        3.0    276.000000\n",
       "50%        3.0    515.000000\n",
       "75%        3.0    973.000000\n",
       "max        3.0   4039.000000"
      ]
     },
     "execution_count": 22,
     "metadata": {},
     "output_type": "execute_result"
    }
   ],
   "source": [
    "new_df[new_df[\"Product\"]=='Credit reporting'].describe()"
   ]
  },
  {
   "cell_type": "markdown",
   "id": "074c401a",
   "metadata": {},
   "source": [
    "On remarque qu'il y a des messages de plus de 4000 charactere !!!"
   ]
  },
  {
   "cell_type": "code",
   "execution_count": 23,
   "id": "842acc9e",
   "metadata": {},
   "outputs": [
    {
     "data": {
      "text/plain": [
       "'1 ) The pymt I made for {$870.00} that Ocwen rcvd on XXXX/XXXX/XXXX, and {$3300.00} from XXXX/XXXX/XXXX, and {$3300.00} from XXXX/XXXX/XXXX were all canceled and re-posted on XXXX/XXXX/XXXX. Why? \\n\\n2 ) Why is the pymt I made on XXXX/XXXX/XXXX for {$3300.00} not added to the paid year-to-date amount? \\n\\n3 ) Why is the paid ytd column on the XXXX/XXXX/XXXX stmt depicting yrly totals for XX/XX/XXXX -XXXX? \\n\\n4 ) If pymts Ocwen rcvd on XXXX/XXXX/XXXX, XXXX/XXXX/XXXX, and XXXX/XXXX/XXXX are applied on XXXX/XXXX/XXXX, why are they not showing up in the paid ytd column on the XXXX/XXXX/XXXX stmt? \\n\\n5 ) Out of my XX/XX/XXXX pymt of {$3300.00} that Ocwen rcvd on XXXX/XXXX/XXXX, why was {$2300.00} applied to Principal? \\n\\n6 ) From the remaining {$1000.00} of my XX/XX/XXXX pymt {$430.00} was paid to Escrow. What happened to the {$590.00} that was left? \\n\\n7 ) Why did Ocwen take {$2300.00} from the {$3300.00} that I paid in XXXX XXXX to apply it to Principal then the following month move it to the Suspense account to match it to the incorrect amount Ocwen had me pay in XXXX XXXX and use it as my pymt for XXXX XXXX when my XX/XX/XXXX pymt was paid in full in XX/XX/XXXX before Ocwen split off the {$2300.00} towards Principal? \\n\\n8 ) If the amt to satisfy the pymt Ocwen posted on XXXX/XXXX/XXXX was rcvd on XXXX/XXXX/XXXX, why did Ocwen wait eleven days to apply the pymt? \\n\\n9 ) On the XXXX XXXX, XXXX stmt, the paid ytd amt for Principal is {$2700.00}. Why does it drop to {$840.00} on the XXXX/XXXX/XXXX stmt? \\n\\n10 ) On the XXXX/XXXX/XXXX stmt, the paid ytd amt total is {$7700.00}. the pymt on the XXXX/XXXX/XXXX stmt of {$3300.00} should bring it to {$11000.00}. Why is it only {$8700.00}? \\n\\n11 ) the total amt paid ytd on the XXXX/XXXX/XXXX stmt, being corrected to {$11000.00} should be {$14000.00} on the XXXX/XXXX/XXXX stmt after that pymt of {$3300.00} is included, not {$12000.00} as shown. \\n\\n12 ) the total amt paid ytd on the XXXX/XXXX/XXXX stmt, being corrected to {$14000.00} should be {$17000.00} on the XXXX/XXXX/XXXX stmt after that pymt of {$3300.00} is included. not {$15000.00} as shown. \\n\\n13 ) the total amt paid on the XXXX/XXXX/XXXX stmt is {$12000.00}. not {$11000.00} as shown. \\n\\n14 ) the total amt paid to Escrow on the XXXX/XXXX/XXXX stmt is {$1000.00}. not {$1000.00} as shown. \\n\\n15 ) the total amount paid to Principal ytd on the XXXX/XXXX/XXXX stmt shows {$1600.00}, and for Interest shows {$10000.00}, Escrow {$2700.00}, and the corrected total paid ytd is {$17000.00}. Adding the amts paid on the XXXX/XXXX/XXXX stmt for Principal ( {$2300.00} ), Interest ( {$7700.00} ), Escrow ( {$1000.00} ), and Total ytd ( {$12000.00} ) should bring the figures in the paid ytd column for Principal to be {$3900.00} ( not {$2700.00} ), Interest {$18000.00} ( not {$10000.00} ), Escrow {$3800.00} ( not {$2300.00} ), and Total ytd {$27000.00} ( not {$15000.00} ). \\n\\n16 ) the amt paid on the XXXX/XXXX/XXXX stmt in line XXXX for pymt Ocwen rcvd on XXXX/XXXX/XXXX totals {$2300.00}. Why does Ocwen remove {$4300.00} from Un-applied Funds? \\n\\n17 ) The pymt I made for {$3300.00} that Ocwen rcvd on XXXX/XXXX/XXXX, and {$1000.00} from XXXX/XXXX/XXXX, and {$5.00} from XXXX/XXXX/XXXX, and {$3300.00} from XXXX/XXXX/XXXX, and {$3300.00} from XXXX/XXXX/XXXX were all canceled, as well as create and cancel a fake pymt on XXXX/XXXX/XXXX for {$3300.00} and two fake pymts on XXXX/XXXX/XXXX for {$2300.00} and {$1000.00} and re-post all XXXX transactions on XXXX/XXXX/XXXX. Why? \\n\\n18 ) Why does Ocwen change the pymt made on XXXX/XXXX/XXXX for {$3300.00} with {$340.00} allocated to Escrow to {$3300.00} and {$0.00} with {$340.00} and {$0.00} to Escrow on XXXX/XXXX/XXXX? \\n\\n19 ) If at the time of the XXXX/XXXX/XXXX stmt, Ocwen truly believes I am two pymts behind, why does Ocwen allocate {$1000.00} as a pymt to Principal on XXXX/XXXX/XXXX? \\n\\n20 ) the total paid ytd on the XXXX/XXXX/XXXX stmt for Principal should be {$4400.00} ( not {$3100.00} ), Interest {$21000.00} ( not {$12000.00} ), Escrow {$4100.00} ( not {$2600.00} ), and total {$33000.00} ( not {$18000.00} ) 21 ) the Escrow balance on the XXXX/XXXX/XXXX stmt shows {$1400.00}. why does the XXXX/XXXX/XXXX stmt show {$1000.00} when there were three pymts made to Escrow during the period between XXXX/XXXX/XXXX and XXXX/XXXX/XXXX totaling {$1000.00}? The Escrow balance should be {$2500.00}.'"
      ]
     },
     "execution_count": 23,
     "metadata": {},
     "output_type": "execute_result"
    }
   ],
   "source": [
    "new_df[new_df.text_len == 4364][\"Consumer complaint narrative\"].iloc[0]"
   ]
  },
  {
   "cell_type": "markdown",
   "id": "b12b4403",
   "metadata": {},
   "source": [
    "## 1. Removing noise"
   ]
  },
  {
   "cell_type": "code",
   "execution_count": 24,
   "id": "09423749",
   "metadata": {},
   "outputs": [],
   "source": [
    "import re"
   ]
  },
  {
   "cell_type": "code",
   "execution_count": 25,
   "id": "6fa1bb85",
   "metadata": {},
   "outputs": [],
   "source": [
    "def clean_words(text):\n",
    "    \n",
    "    #remove html markup\n",
    "    text = re.sub(\"((<.*?>))\",\"\",text)\n",
    "    \n",
    "    #remove non-ascii and digit\n",
    "    text = re.sub(\"(\\W|\\d+)\",\" \",text)\n",
    "    \n",
    "    #remove whitespaces\n",
    "    text = text.strip()\n",
    "    \n",
    "    return text"
   ]
  },
  {
   "cell_type": "markdown",
   "id": "6dd2c230",
   "metadata": {},
   "source": [
    "### a. removing symbols"
   ]
  },
  {
   "cell_type": "code",
   "execution_count": 26,
   "id": "2e2b5bcc",
   "metadata": {},
   "outputs": [],
   "source": [
    "new_df['com'] = new_df['Consumer complaint narrative'].apply(lambda x: \" \".join(clean_words(w) for w in nltk.wordpunct_tokenize(x)))"
   ]
  },
  {
   "cell_type": "code",
   "execution_count": 27,
   "id": "b345f332",
   "metadata": {},
   "outputs": [
    {
     "data": {
      "text/html": [
       "<div>\n",
       "<style scoped>\n",
       "    .dataframe tbody tr th:only-of-type {\n",
       "        vertical-align: middle;\n",
       "    }\n",
       "\n",
       "    .dataframe tbody tr th {\n",
       "        vertical-align: top;\n",
       "    }\n",
       "\n",
       "    .dataframe thead th {\n",
       "        text-align: right;\n",
       "    }\n",
       "</style>\n",
       "<table border=\"1\" class=\"dataframe\">\n",
       "  <thead>\n",
       "    <tr style=\"text-align: right;\">\n",
       "      <th></th>\n",
       "      <th>Consumer complaint narrative</th>\n",
       "      <th>Product</th>\n",
       "      <th>Id</th>\n",
       "      <th>text_len</th>\n",
       "      <th>com</th>\n",
       "    </tr>\n",
       "  </thead>\n",
       "  <tbody>\n",
       "    <tr>\n",
       "      <th>57729</th>\n",
       "      <td>Received Capital One charge card offer XXXX. A...</td>\n",
       "      <td>Credit card</td>\n",
       "      <td>2</td>\n",
       "      <td>3875</td>\n",
       "      <td>Received Capital One charge card offer XXXX  A...</td>\n",
       "    </tr>\n",
       "    <tr>\n",
       "      <th>57787</th>\n",
       "      <td>I do n't know how they got my cell number. I t...</td>\n",
       "      <td>Debt collection</td>\n",
       "      <td>4</td>\n",
       "      <td>282</td>\n",
       "      <td>I do n  t know how they got my cell number  I ...</td>\n",
       "    </tr>\n",
       "    <tr>\n",
       "      <th>57838</th>\n",
       "      <td>I 'm a longtime member of Charter One Bank/RBS...</td>\n",
       "      <td>Credit card</td>\n",
       "      <td>2</td>\n",
       "      <td>3678</td>\n",
       "      <td>I  m a longtime member of Charter One Bank  RB...</td>\n",
       "    </tr>\n",
       "    <tr>\n",
       "      <th>57848</th>\n",
       "      <td>After looking at my credit report, I saw a col...</td>\n",
       "      <td>Credit reporting</td>\n",
       "      <td>3</td>\n",
       "      <td>472</td>\n",
       "      <td>After looking at my credit report  I saw a col...</td>\n",
       "    </tr>\n",
       "    <tr>\n",
       "      <th>57852</th>\n",
       "      <td>I received a call from a XXXX XXXX from XXXX @...</td>\n",
       "      <td>Debt collection</td>\n",
       "      <td>4</td>\n",
       "      <td>656</td>\n",
       "      <td>I received a call from a XXXX XXXX from XXXX  ...</td>\n",
       "    </tr>\n",
       "  </tbody>\n",
       "</table>\n",
       "</div>"
      ],
      "text/plain": [
       "                            Consumer complaint narrative           Product  \\\n",
       "57729  Received Capital One charge card offer XXXX. A...       Credit card   \n",
       "57787  I do n't know how they got my cell number. I t...   Debt collection   \n",
       "57838  I 'm a longtime member of Charter One Bank/RBS...       Credit card   \n",
       "57848  After looking at my credit report, I saw a col...  Credit reporting   \n",
       "57852  I received a call from a XXXX XXXX from XXXX @...   Debt collection   \n",
       "\n",
       "       Id  text_len                                                com  \n",
       "57729   2      3875  Received Capital One charge card offer XXXX  A...  \n",
       "57787   4       282  I do n  t know how they got my cell number  I ...  \n",
       "57838   2      3678  I  m a longtime member of Charter One Bank  RB...  \n",
       "57848   3       472  After looking at my credit report  I saw a col...  \n",
       "57852   4       656  I received a call from a XXXX XXXX from XXXX  ...  "
      ]
     },
     "execution_count": 27,
     "metadata": {},
     "output_type": "execute_result"
    }
   ],
   "source": [
    "new_df.head()"
   ]
  },
  {
   "cell_type": "markdown",
   "id": "ce858e6f",
   "metadata": {},
   "source": [
    "### b. removing nonsense words"
   ]
  },
  {
   "cell_type": "code",
   "execution_count": 28,
   "id": "0b2482dc",
   "metadata": {},
   "outputs": [],
   "source": [
    "words = set(nltk.corpus.words.words())\n",
    "\n",
    "def clean_sent(sent):\n",
    "    return \" \".join(w for w in nltk.wordpunct_tokenize(sent) \\\n",
    "     if w.lower() in words or not w.isalpha())\n",
    "\n",
    "\n",
    "new_df['com'] = new_df['com'].apply(clean_sent)"
   ]
  },
  {
   "cell_type": "code",
   "execution_count": 29,
   "id": "e1974f33",
   "metadata": {},
   "outputs": [
    {
     "data": {
      "text/html": [
       "<div>\n",
       "<style scoped>\n",
       "    .dataframe tbody tr th:only-of-type {\n",
       "        vertical-align: middle;\n",
       "    }\n",
       "\n",
       "    .dataframe tbody tr th {\n",
       "        vertical-align: top;\n",
       "    }\n",
       "\n",
       "    .dataframe thead th {\n",
       "        text-align: right;\n",
       "    }\n",
       "</style>\n",
       "<table border=\"1\" class=\"dataframe\">\n",
       "  <thead>\n",
       "    <tr style=\"text-align: right;\">\n",
       "      <th></th>\n",
       "      <th>Consumer complaint narrative</th>\n",
       "      <th>Product</th>\n",
       "      <th>Id</th>\n",
       "      <th>text_len</th>\n",
       "      <th>com</th>\n",
       "    </tr>\n",
       "  </thead>\n",
       "  <tbody>\n",
       "    <tr>\n",
       "      <th>57729</th>\n",
       "      <td>Received Capital One charge card offer XXXX. A...</td>\n",
       "      <td>Credit card</td>\n",
       "      <td>2</td>\n",
       "      <td>3875</td>\n",
       "      <td>Received Capital One charge card offer Applied...</td>\n",
       "    </tr>\n",
       "    <tr>\n",
       "      <th>57787</th>\n",
       "      <td>I do n't know how they got my cell number. I t...</td>\n",
       "      <td>Debt collection</td>\n",
       "      <td>4</td>\n",
       "      <td>282</td>\n",
       "      <td>I do n t know how they got my cell number I to...</td>\n",
       "    </tr>\n",
       "    <tr>\n",
       "      <th>57838</th>\n",
       "      <td>I 'm a longtime member of Charter One Bank/RBS...</td>\n",
       "      <td>Credit card</td>\n",
       "      <td>2</td>\n",
       "      <td>3678</td>\n",
       "      <td>I m a member of Charter One Bank Bank When my ...</td>\n",
       "    </tr>\n",
       "    <tr>\n",
       "      <th>57848</th>\n",
       "      <td>After looking at my credit report, I saw a col...</td>\n",
       "      <td>Credit reporting</td>\n",
       "      <td>3</td>\n",
       "      <td>472</td>\n",
       "      <td>After looking at my credit report I saw a coll...</td>\n",
       "    </tr>\n",
       "    <tr>\n",
       "      <th>57852</th>\n",
       "      <td>I received a call from a XXXX XXXX from XXXX @...</td>\n",
       "      <td>Debt collection</td>\n",
       "      <td>4</td>\n",
       "      <td>656</td>\n",
       "      <td>I received a call from a from that I to but th...</td>\n",
       "    </tr>\n",
       "  </tbody>\n",
       "</table>\n",
       "</div>"
      ],
      "text/plain": [
       "                            Consumer complaint narrative           Product  \\\n",
       "57729  Received Capital One charge card offer XXXX. A...       Credit card   \n",
       "57787  I do n't know how they got my cell number. I t...   Debt collection   \n",
       "57838  I 'm a longtime member of Charter One Bank/RBS...       Credit card   \n",
       "57848  After looking at my credit report, I saw a col...  Credit reporting   \n",
       "57852  I received a call from a XXXX XXXX from XXXX @...   Debt collection   \n",
       "\n",
       "       Id  text_len                                                com  \n",
       "57729   2      3875  Received Capital One charge card offer Applied...  \n",
       "57787   4       282  I do n t know how they got my cell number I to...  \n",
       "57838   2      3678  I m a member of Charter One Bank Bank When my ...  \n",
       "57848   3       472  After looking at my credit report I saw a coll...  \n",
       "57852   4       656  I received a call from a from that I to but th...  "
      ]
     },
     "execution_count": 29,
     "metadata": {},
     "output_type": "execute_result"
    }
   ],
   "source": [
    "new_df.head()"
   ]
  },
  {
   "cell_type": "markdown",
   "id": "72bfa11b",
   "metadata": {},
   "source": [
    "## 3. stemmtizing and lemmatizing"
   ]
  },
  {
   "cell_type": "code",
   "execution_count": 30,
   "id": "1562f027",
   "metadata": {},
   "outputs": [],
   "source": [
    "from nltk.stem import PorterStemmer as ps"
   ]
  },
  {
   "cell_type": "code",
   "execution_count": 31,
   "id": "df4bd873",
   "metadata": {},
   "outputs": [],
   "source": [
    "stemmer = ps()"
   ]
  },
  {
   "cell_type": "code",
   "execution_count": 32,
   "id": "5f4fcc44",
   "metadata": {},
   "outputs": [],
   "source": [
    "new_df['com'] = new_df['com'].apply(lambda x: \" \".join(stemmer.stem(w) for w in nltk.wordpunct_tokenize(x)))"
   ]
  },
  {
   "cell_type": "code",
   "execution_count": 33,
   "id": "4e129531",
   "metadata": {},
   "outputs": [
    {
     "data": {
      "text/html": [
       "<div>\n",
       "<style scoped>\n",
       "    .dataframe tbody tr th:only-of-type {\n",
       "        vertical-align: middle;\n",
       "    }\n",
       "\n",
       "    .dataframe tbody tr th {\n",
       "        vertical-align: top;\n",
       "    }\n",
       "\n",
       "    .dataframe thead th {\n",
       "        text-align: right;\n",
       "    }\n",
       "</style>\n",
       "<table border=\"1\" class=\"dataframe\">\n",
       "  <thead>\n",
       "    <tr style=\"text-align: right;\">\n",
       "      <th></th>\n",
       "      <th>Consumer complaint narrative</th>\n",
       "      <th>Product</th>\n",
       "      <th>Id</th>\n",
       "      <th>text_len</th>\n",
       "      <th>com</th>\n",
       "    </tr>\n",
       "  </thead>\n",
       "  <tbody>\n",
       "    <tr>\n",
       "      <th>57729</th>\n",
       "      <td>Received Capital One charge card offer XXXX. A...</td>\n",
       "      <td>Credit card</td>\n",
       "      <td>2</td>\n",
       "      <td>3875</td>\n",
       "      <td>receiv capit one charg card offer appli wa acc...</td>\n",
       "    </tr>\n",
       "    <tr>\n",
       "      <th>57787</th>\n",
       "      <td>I do n't know how they got my cell number. I t...</td>\n",
       "      <td>Debt collection</td>\n",
       "      <td>4</td>\n",
       "      <td>282</td>\n",
       "      <td>i do n t know how they got my cell number i to...</td>\n",
       "    </tr>\n",
       "    <tr>\n",
       "      <th>57838</th>\n",
       "      <td>I 'm a longtime member of Charter One Bank/RBS...</td>\n",
       "      <td>Credit card</td>\n",
       "      <td>2</td>\n",
       "      <td>3678</td>\n",
       "      <td>i m a member of charter one bank bank when my ...</td>\n",
       "    </tr>\n",
       "    <tr>\n",
       "      <th>57848</th>\n",
       "      <td>After looking at my credit report, I saw a col...</td>\n",
       "      <td>Credit reporting</td>\n",
       "      <td>3</td>\n",
       "      <td>472</td>\n",
       "      <td>after look at my credit report i saw a collect...</td>\n",
       "    </tr>\n",
       "    <tr>\n",
       "      <th>57852</th>\n",
       "      <td>I received a call from a XXXX XXXX from XXXX @...</td>\n",
       "      <td>Debt collection</td>\n",
       "      <td>4</td>\n",
       "      <td>656</td>\n",
       "      <td>i receiv a call from a from that i to but they...</td>\n",
       "    </tr>\n",
       "  </tbody>\n",
       "</table>\n",
       "</div>"
      ],
      "text/plain": [
       "                            Consumer complaint narrative           Product  \\\n",
       "57729  Received Capital One charge card offer XXXX. A...       Credit card   \n",
       "57787  I do n't know how they got my cell number. I t...   Debt collection   \n",
       "57838  I 'm a longtime member of Charter One Bank/RBS...       Credit card   \n",
       "57848  After looking at my credit report, I saw a col...  Credit reporting   \n",
       "57852  I received a call from a XXXX XXXX from XXXX @...   Debt collection   \n",
       "\n",
       "       Id  text_len                                                com  \n",
       "57729   2      3875  receiv capit one charg card offer appli wa acc...  \n",
       "57787   4       282  i do n t know how they got my cell number i to...  \n",
       "57838   2      3678  i m a member of charter one bank bank when my ...  \n",
       "57848   3       472  after look at my credit report i saw a collect...  \n",
       "57852   4       656  i receiv a call from a from that i to but they...  "
      ]
     },
     "execution_count": 33,
     "metadata": {},
     "output_type": "execute_result"
    }
   ],
   "source": [
    "new_df.head()"
   ]
  },
  {
   "cell_type": "code",
   "execution_count": 34,
   "id": "8d6725ac",
   "metadata": {},
   "outputs": [],
   "source": [
    "from nltk.stem import WordNetLemmatizer as wnl\n",
    "lemm = wnl()"
   ]
  },
  {
   "cell_type": "code",
   "execution_count": 35,
   "id": "fd40caa2",
   "metadata": {},
   "outputs": [],
   "source": [
    "new_df['com'] = new_df['com'].apply(lambda x: \" \".join(lemm.lemmatize(word = w, pos = 'v') for w in nltk.wordpunct_tokenize(x)))"
   ]
  },
  {
   "cell_type": "code",
   "execution_count": 36,
   "id": "0ccc61fa",
   "metadata": {},
   "outputs": [
    {
     "data": {
      "text/html": [
       "<div>\n",
       "<style scoped>\n",
       "    .dataframe tbody tr th:only-of-type {\n",
       "        vertical-align: middle;\n",
       "    }\n",
       "\n",
       "    .dataframe tbody tr th {\n",
       "        vertical-align: top;\n",
       "    }\n",
       "\n",
       "    .dataframe thead th {\n",
       "        text-align: right;\n",
       "    }\n",
       "</style>\n",
       "<table border=\"1\" class=\"dataframe\">\n",
       "  <thead>\n",
       "    <tr style=\"text-align: right;\">\n",
       "      <th></th>\n",
       "      <th>Consumer complaint narrative</th>\n",
       "      <th>Product</th>\n",
       "      <th>Id</th>\n",
       "      <th>text_len</th>\n",
       "      <th>com</th>\n",
       "    </tr>\n",
       "  </thead>\n",
       "  <tbody>\n",
       "    <tr>\n",
       "      <th>57729</th>\n",
       "      <td>Received Capital One charge card offer XXXX. A...</td>\n",
       "      <td>Credit card</td>\n",
       "      <td>2</td>\n",
       "      <td>3875</td>\n",
       "      <td>receiv capit one charg card offer appli wa acc...</td>\n",
       "    </tr>\n",
       "    <tr>\n",
       "      <th>57787</th>\n",
       "      <td>I do n't know how they got my cell number. I t...</td>\n",
       "      <td>Debt collection</td>\n",
       "      <td>4</td>\n",
       "      <td>282</td>\n",
       "      <td>i do n t know how they get my cell number i te...</td>\n",
       "    </tr>\n",
       "    <tr>\n",
       "      <th>57838</th>\n",
       "      <td>I 'm a longtime member of Charter One Bank/RBS...</td>\n",
       "      <td>Credit card</td>\n",
       "      <td>2</td>\n",
       "      <td>3678</td>\n",
       "      <td>i m a member of charter one bank bank when my ...</td>\n",
       "    </tr>\n",
       "    <tr>\n",
       "      <th>57848</th>\n",
       "      <td>After looking at my credit report, I saw a col...</td>\n",
       "      <td>Credit reporting</td>\n",
       "      <td>3</td>\n",
       "      <td>472</td>\n",
       "      <td>after look at my credit report i saw a collect...</td>\n",
       "    </tr>\n",
       "    <tr>\n",
       "      <th>57852</th>\n",
       "      <td>I received a call from a XXXX XXXX from XXXX @...</td>\n",
       "      <td>Debt collection</td>\n",
       "      <td>4</td>\n",
       "      <td>656</td>\n",
       "      <td>i receiv a call from a from that i to but they...</td>\n",
       "    </tr>\n",
       "  </tbody>\n",
       "</table>\n",
       "</div>"
      ],
      "text/plain": [
       "                            Consumer complaint narrative           Product  \\\n",
       "57729  Received Capital One charge card offer XXXX. A...       Credit card   \n",
       "57787  I do n't know how they got my cell number. I t...   Debt collection   \n",
       "57838  I 'm a longtime member of Charter One Bank/RBS...       Credit card   \n",
       "57848  After looking at my credit report, I saw a col...  Credit reporting   \n",
       "57852  I received a call from a XXXX XXXX from XXXX @...   Debt collection   \n",
       "\n",
       "       Id  text_len                                                com  \n",
       "57729   2      3875  receiv capit one charg card offer appli wa acc...  \n",
       "57787   4       282  i do n t know how they get my cell number i te...  \n",
       "57838   2      3678  i m a member of charter one bank bank when my ...  \n",
       "57848   3       472  after look at my credit report i saw a collect...  \n",
       "57852   4       656  i receiv a call from a from that i to but they...  "
      ]
     },
     "execution_count": 36,
     "metadata": {},
     "output_type": "execute_result"
    }
   ],
   "source": [
    "new_df.head()"
   ]
  },
  {
   "cell_type": "code",
   "execution_count": 37,
   "id": "4a1423f0",
   "metadata": {},
   "outputs": [],
   "source": [
    "from nltk.corpus import stopwords\n",
    "stop = set(stopwords.words(\"english\"))"
   ]
  },
  {
   "cell_type": "code",
   "execution_count": 38,
   "id": "740d3b4c",
   "metadata": {},
   "outputs": [],
   "source": [
    "new_df['com'] = new_df['com'].apply(lambda x: \" \".join(x for w in nltk.wordpunct_tokenize(x) if x not in stop))"
   ]
  },
  {
   "cell_type": "code",
   "execution_count": 39,
   "id": "4cfa86b9",
   "metadata": {},
   "outputs": [
    {
     "data": {
      "text/html": [
       "<div>\n",
       "<style scoped>\n",
       "    .dataframe tbody tr th:only-of-type {\n",
       "        vertical-align: middle;\n",
       "    }\n",
       "\n",
       "    .dataframe tbody tr th {\n",
       "        vertical-align: top;\n",
       "    }\n",
       "\n",
       "    .dataframe thead th {\n",
       "        text-align: right;\n",
       "    }\n",
       "</style>\n",
       "<table border=\"1\" class=\"dataframe\">\n",
       "  <thead>\n",
       "    <tr style=\"text-align: right;\">\n",
       "      <th></th>\n",
       "      <th>Consumer complaint narrative</th>\n",
       "      <th>Product</th>\n",
       "      <th>Id</th>\n",
       "      <th>text_len</th>\n",
       "      <th>com</th>\n",
       "    </tr>\n",
       "  </thead>\n",
       "  <tbody>\n",
       "    <tr>\n",
       "      <th>57729</th>\n",
       "      <td>Received Capital One charge card offer XXXX. A...</td>\n",
       "      <td>Credit card</td>\n",
       "      <td>2</td>\n",
       "      <td>3875</td>\n",
       "      <td>receiv capit one charg card offer appli wa acc...</td>\n",
       "    </tr>\n",
       "    <tr>\n",
       "      <th>57787</th>\n",
       "      <td>I do n't know how they got my cell number. I t...</td>\n",
       "      <td>Debt collection</td>\n",
       "      <td>4</td>\n",
       "      <td>282</td>\n",
       "      <td>i do n t know how they get my cell number i te...</td>\n",
       "    </tr>\n",
       "    <tr>\n",
       "      <th>57838</th>\n",
       "      <td>I 'm a longtime member of Charter One Bank/RBS...</td>\n",
       "      <td>Credit card</td>\n",
       "      <td>2</td>\n",
       "      <td>3678</td>\n",
       "      <td>i m a member of charter one bank bank when my ...</td>\n",
       "    </tr>\n",
       "    <tr>\n",
       "      <th>57848</th>\n",
       "      <td>After looking at my credit report, I saw a col...</td>\n",
       "      <td>Credit reporting</td>\n",
       "      <td>3</td>\n",
       "      <td>472</td>\n",
       "      <td>after look at my credit report i saw a collect...</td>\n",
       "    </tr>\n",
       "    <tr>\n",
       "      <th>57852</th>\n",
       "      <td>I received a call from a XXXX XXXX from XXXX @...</td>\n",
       "      <td>Debt collection</td>\n",
       "      <td>4</td>\n",
       "      <td>656</td>\n",
       "      <td>i receiv a call from a from that i to but they...</td>\n",
       "    </tr>\n",
       "  </tbody>\n",
       "</table>\n",
       "</div>"
      ],
      "text/plain": [
       "                            Consumer complaint narrative           Product  \\\n",
       "57729  Received Capital One charge card offer XXXX. A...       Credit card   \n",
       "57787  I do n't know how they got my cell number. I t...   Debt collection   \n",
       "57838  I 'm a longtime member of Charter One Bank/RBS...       Credit card   \n",
       "57848  After looking at my credit report, I saw a col...  Credit reporting   \n",
       "57852  I received a call from a XXXX XXXX from XXXX @...   Debt collection   \n",
       "\n",
       "       Id  text_len                                                com  \n",
       "57729   2      3875  receiv capit one charg card offer appli wa acc...  \n",
       "57787   4       282  i do n t know how they get my cell number i te...  \n",
       "57838   2      3678  i m a member of charter one bank bank when my ...  \n",
       "57848   3       472  after look at my credit report i saw a collect...  \n",
       "57852   4       656  i receiv a call from a from that i to but they...  "
      ]
     },
     "execution_count": 39,
     "metadata": {},
     "output_type": "execute_result"
    }
   ],
   "source": [
    "new_df.head()"
   ]
  },
  {
   "cell_type": "code",
   "execution_count": 41,
   "id": "d62ecc59",
   "metadata": {},
   "outputs": [],
   "source": [
    "X = new_df[\"com\"]\n",
    "y = new_df[\"Id\"]"
   ]
  },
  {
   "cell_type": "code",
   "execution_count": 42,
   "id": "e591d08f",
   "metadata": {},
   "outputs": [
    {
     "name": "stdout",
     "output_type": "stream",
     "text": [
      "(112726,)\n",
      "(112726,)\n"
     ]
    }
   ],
   "source": [
    "print(X.shape)\n",
    "print(y.shape)"
   ]
  },
  {
   "cell_type": "code",
   "execution_count": 43,
   "id": "75afe302",
   "metadata": {},
   "outputs": [
    {
     "name": "stdout",
     "output_type": "stream",
     "text": [
      "(84544,)\n",
      "(28182,)\n",
      "(84544,)\n",
      "(28182,)\n"
     ]
    }
   ],
   "source": [
    "from sklearn.model_selection import train_test_split\n",
    "X_train, X_test, y_train, y_test = train_test_split(X, y, random_state=1)\n",
    "print(X_train.shape)\n",
    "print(X_test.shape)\n",
    "print(y_train.shape)\n",
    "print(y_test.shape)"
   ]
  },
  {
   "cell_type": "code",
   "execution_count": 44,
   "id": "a80a9ac3",
   "metadata": {},
   "outputs": [],
   "source": [
    "from sklearn.feature_extraction.text import CountVectorizer\n",
    "from sklearn.feature_extraction.text import TfidfTransformer\n",
    "from sklearn.pipeline import Pipeline \n",
    "vect = CountVectorizer()\n",
    "vect.fit(X_train)"
   ]
  },
  {
   "cell_type": "code",
   "execution_count": null,
   "id": "2921d120",
   "metadata": {},
   "outputs": [],
   "source": [
    "X_train_dtm = vect.transform(X_train)"
   ]
  },
  {
   "cell_type": "code",
   "execution_count": null,
   "id": "61d78b40",
   "metadata": {},
   "outputs": [],
   "source": [
    "X_train_dtm"
   ]
  },
  {
   "cell_type": "code",
   "execution_count": null,
   "id": "ce21e5a5",
   "metadata": {},
   "outputs": [],
   "source": [
    "\n",
    "X_test_dtm = vect.transform(X_test)\n",
    "X_test_dtm"
   ]
  },
  {
   "cell_type": "code",
   "execution_count": null,
   "id": "ee6f2fa9",
   "metadata": {},
   "outputs": [],
   "source": [
    "from sklearn.feature_extraction.text import TfidfTransformer\n",
    "\n",
    "tfidf_transformer = TfidfTransformer()\n",
    "tfidf_transformer.fit(X_train_dtm)\n",
    "tfidf_transformer.transform(X_train_dtm)"
   ]
  },
  {
   "cell_type": "code",
   "execution_count": null,
   "id": "bab0766c",
   "metadata": {},
   "outputs": [],
   "source": [
    "from sklearn.naive_bayes import MultinomialNB\n",
    "nb = MultinomialNB()"
   ]
  },
  {
   "cell_type": "code",
   "execution_count": null,
   "id": "3e003bd3",
   "metadata": {},
   "outputs": [],
   "source": [
    "nb.fit(X_train_dtm, y_train)"
   ]
  },
  {
   "cell_type": "code",
   "execution_count": null,
   "id": "fc32d5ad",
   "metadata": {},
   "outputs": [],
   "source": [
    "y_pred_class = nb.predict(X_test_dtm)"
   ]
  },
  {
   "cell_type": "code",
   "execution_count": null,
   "id": "a9c6a682",
   "metadata": {},
   "outputs": [],
   "source": [
    "from sklearn import metrics\n",
    "metrics.accuracy_score(y_test, y_pred_class)"
   ]
  },
  {
   "cell_type": "code",
   "execution_count": null,
   "id": "97eab407",
   "metadata": {},
   "outputs": [],
   "source": [
    "metrics.confusion_matrix(y_test, y_pred_class"
   ]
  },
  {
   "cell_type": "code",
   "execution_count": null,
   "id": "e41666b3",
   "metadata": {},
   "outputs": [],
   "source": [
    "from sklearn.feature_extraction.text import TfidfTransformer\n",
    "from sklearn.pipeline import Pipeline\n",
    "\n",
    "pipe = Pipeline([('bow', CountVectorizer()), \n",
    "                 ('tfid', TfidfTransformer()),  \n",
    "                 ('model', MultinomialNB())])\n",
    "pipe.fit(X_train, y_train)"
   ]
  },
  {
   "cell_type": "code",
   "execution_count": null,
   "id": "4e5b4494",
   "metadata": {},
   "outputs": [],
   "source": [
    "y_pred = pipe.predict(X_test)"
   ]
  },
  {
   "cell_type": "code",
   "execution_count": null,
   "id": "27c499a5",
   "metadata": {},
   "outputs": [],
   "source": [
    "metrics.accuracy_score(y_test, y_pred)"
   ]
  },
  {
   "cell_type": "code",
   "execution_count": null,
   "id": "73006a18",
   "metadata": {},
   "outputs": [],
   "source": [
    "metrics.confusion_matrix(y_test, y_pred)"
   ]
  },
  {
   "cell_type": "code",
   "execution_count": null,
   "id": "0995dba6",
   "metadata": {},
   "outputs": [],
   "source": [
    "from sklearn.linear_model import LogisticRegression\n",
    "logreg = LogisticRegression(solver='liblinear')"
   ]
  },
  {
   "cell_type": "code",
   "execution_count": null,
   "id": "43c070e9",
   "metadata": {},
   "outputs": [],
   "source": [
    "logreg.fit(X_train_dtm, y_train)"
   ]
  },
  {
   "cell_type": "code",
   "execution_count": null,
   "id": "54022135",
   "metadata": {},
   "outputs": [],
   "source": [
    "y_pred_class = logreg.predict(X_test_dtm)\n"
   ]
  },
  {
   "cell_type": "code",
   "execution_count": null,
   "id": "261cd981",
   "metadata": {},
   "outputs": [],
   "source": [
    "metrics.accuracy_score(y_test, y_pred_class)"
   ]
  },
  {
   "cell_type": "code",
   "execution_count": null,
   "id": "4a78a8c1",
   "metadata": {},
   "outputs": [],
   "source": [
    "metrics.confusion_matrix(y_test, y_pred_class)"
   ]
  },
  {
   "cell_type": "code",
   "execution_count": null,
   "id": "c04b04ac",
   "metadata": {},
   "outputs": [],
   "source": []
  },
  {
   "cell_type": "code",
   "execution_count": null,
   "id": "41f787fd",
   "metadata": {},
   "outputs": [],
   "source": []
  }
 ],
 "metadata": {
  "kernelspec": {
   "display_name": "Python 3 (ipykernel)",
   "language": "python",
   "name": "python3"
  },
  "language_info": {
   "codemirror_mode": {
    "name": "ipython",
    "version": 3
   },
   "file_extension": ".py",
   "mimetype": "text/x-python",
   "name": "python",
   "nbconvert_exporter": "python",
   "pygments_lexer": "ipython3",
   "version": "3.9.7"
  }
 },
 "nbformat": 4,
 "nbformat_minor": 5
}
